{
 "cells": [
  {
   "cell_type": "code",
   "execution_count": null,
   "id": "4743dcfe",
   "metadata": {},
   "outputs": [],
   "source": [
    "#1.\tIn your own words, describe:\n",
    "#a.\tBias and variance in machine learning.\n",
    "# Variance measures the change in output from a model s a result of a different training set. Bias is the resulting error when the model is then used to predict real events.\n",
    "#b.\tDescribe the bias-variance tradeoff.\n",
    "# Variance tends to be low if the model is simple and less flexible however bias tends to be low if the model is flexible and complicated, meaning that it is very hard to create a model that can reduce both.\n",
    "#c. In 3 or less sentences, describe bias and variance in relation to complex and simple models. When is variance high? When is it low? How about bias?\n",
    "# A complicated model tends to result in a high variance but low bias, and a simple model tends to result in a high bias but low variance. \n"
   ]
  },
  {
   "cell_type": "code",
   "execution_count": 50,
   "id": "d23cf22f",
   "metadata": {},
   "outputs": [],
   "source": [
    "#2.\tList the assumptions of linear regression.\n",
    "# Linearity, relationship between X and the mean of Y is linear. Homoscedasticity, the variance of the residual is the same. Independence, observations are independent of one another. Normality, for any X value, Y is normally distributed.\n"
   ]
  },
  {
   "cell_type": "code",
   "execution_count": 51,
   "id": "10d7d441",
   "metadata": {},
   "outputs": [],
   "source": [
    "#3. If you bike (biking =1), on average chance of heart disease goes down 0.2, but if you smoke (smoking =1), on average chance of heart disease goes up by 0.178. Holding all others constant."
   ]
  },
  {
   "cell_type": "code",
   "execution_count": 52,
   "id": "b80b9acd",
   "metadata": {},
   "outputs": [],
   "source": [
    "#4\n",
    "#a.\tWrite down the equation for the above regression. \n",
    "# Sales = 3.527 + 0.046*Youtube + 0.188*Facebook – 0.001*Newspaper + error\n",
    "#b.\tInterpret the above output focusing on the residuals, the coefficients, the standard error, the t value, the p value, R squared and the F statistic.\n",
    "# The B_0 coefficient is 3.52667 which is the firms sales if they didn’t spend anything on advertising. B_1 is 0.04576, meaning for every 1 unit increase in YouTube advertising, on average sales increases by 0.04576 holding all others constant. B_2 is 0.18853, meaning for every 1 unit increase in Facebook advertising, on average sales increases 0.18853 holding all others constant. B_3 is -0.00104, meaning that every 1 unit increase in Newspaper advertising, on average sales decreases by 0.00104 holding all others constant. B_1 and B_2 have low standard errors and have both statistically significant T and P values. B_3 also has a low standard error but does not have statistically significant T or P values. The R squared appears high, 0.897, indicating the model is a good fit and that 89.7% of the variance of sales can be explained by the 3 ways of advertising. The F-statistic is also high with a statistically significant p-value, further indicating the model is a good fit.\n"
   ]
  },
  {
   "cell_type": "code",
   "execution_count": null,
   "id": "d115ea2a",
   "metadata": {},
   "outputs": [],
   "source": []
  },
  {
   "cell_type": "code",
   "execution_count": 1,
   "id": "7698a8fc",
   "metadata": {},
   "outputs": [],
   "source": [
    "import pandas as pd\n",
    "\n"
   ]
  },
  {
   "cell_type": "code",
   "execution_count": null,
   "id": "9af16d3d",
   "metadata": {},
   "outputs": [],
   "source": []
  },
  {
   "cell_type": "code",
   "execution_count": 5,
   "id": "bb787cc4",
   "metadata": {},
   "outputs": [],
   "source": [
    "import numpy as np # v 1.21.5\n",
    "import sklearn # v 1.02.\n",
    "import pandas as pd # v 1.5.3\n",
    "\n",
    "import matplotlib.pyplot as plt # v 3.7.1\n",
    "import statsmodels.api as sm # v.0.13.2\n",
    "\n",
    "from sklearn.linear_model import LinearRegression\n",
    "from sklearn.model_selection import train_test_split\n",
    "\n",
    "from sklearn.metrics import mean_absolute_error\n",
    "from sklearn.metrics import mean_squared_error\n",
    "from sklearn.metrics import mean_absolute_percentage_error\n",
    "\n",
    "\n",
    "%matplotlib inline"
   ]
  },
  {
   "cell_type": "code",
   "execution_count": 23,
   "id": "e5700280",
   "metadata": {},
   "outputs": [],
   "source": [
    "df = pd.read_csv(\"C:/Users/btomi/OneDrive/Documents/Data 300/California_Houses.csv\")"
   ]
  },
  {
   "cell_type": "code",
   "execution_count": null,
   "id": "1fbfc23c",
   "metadata": {},
   "outputs": [],
   "source": []
  },
  {
   "cell_type": "code",
   "execution_count": null,
   "id": "1d224678",
   "metadata": {},
   "outputs": [],
   "source": []
  },
  {
   "cell_type": "code",
   "execution_count": null,
   "id": "98463397",
   "metadata": {},
   "outputs": [],
   "source": []
  },
  {
   "cell_type": "code",
   "execution_count": null,
   "id": "81143e62",
   "metadata": {},
   "outputs": [],
   "source": [
    "#a.\tExploratory Data Analysis: summary statistics, shape, column names, missing values, data types, plot the columns, correlations etc. Does anything stand out? If there are missing values, how are you going to impute the missing values? You can do the exploratory analysis by hand by hand or use any python package available online. "
   ]
  },
  {
   "cell_type": "code",
   "execution_count": 24,
   "id": "7779c964",
   "metadata": {},
   "outputs": [
    {
     "data": {
      "text/plain": [
       "Index(['Median_House_Value', 'Median_Income', 'Median_Age', 'Tot_Rooms',\n",
       "       'Tot_Bedrooms', 'Population', 'Households', 'Latitude', 'Longitude',\n",
       "       'Distance_to_coast', 'Distance_to_LA', 'Distance_to_SanDiego',\n",
       "       'Distance_to_SanJose', 'Distance_to_SanFrancisco'],\n",
       "      dtype='object')"
      ]
     },
     "execution_count": 24,
     "metadata": {},
     "output_type": "execute_result"
    }
   ],
   "source": [
    "df.columns\n"
   ]
  },
  {
   "cell_type": "code",
   "execution_count": 25,
   "id": "9c7651a1",
   "metadata": {},
   "outputs": [
    {
     "data": {
      "text/plain": [
       "(20640, 14)"
      ]
     },
     "execution_count": 25,
     "metadata": {},
     "output_type": "execute_result"
    }
   ],
   "source": [
    "df.shape"
   ]
  },
  {
   "cell_type": "code",
   "execution_count": 26,
   "id": "1d79fa9f",
   "metadata": {},
   "outputs": [
    {
     "data": {
      "text/plain": [
       "Median_House_Value          float64\n",
       "Median_Income               float64\n",
       "Median_Age                    int64\n",
       "Tot_Rooms                     int64\n",
       "Tot_Bedrooms                  int64\n",
       "Population                    int64\n",
       "Households                    int64\n",
       "Latitude                    float64\n",
       "Longitude                   float64\n",
       "Distance_to_coast           float64\n",
       "Distance_to_LA              float64\n",
       "Distance_to_SanDiego        float64\n",
       "Distance_to_SanJose         float64\n",
       "Distance_to_SanFrancisco    float64\n",
       "dtype: object"
      ]
     },
     "execution_count": 26,
     "metadata": {},
     "output_type": "execute_result"
    }
   ],
   "source": [
    "df.dtypes"
   ]
  },
  {
   "cell_type": "code",
   "execution_count": 27,
   "id": "ecf7ac28",
   "metadata": {},
   "outputs": [
    {
     "data": {
      "text/plain": [
       "Median_House_Value          0\n",
       "Median_Income               0\n",
       "Median_Age                  0\n",
       "Tot_Rooms                   0\n",
       "Tot_Bedrooms                0\n",
       "Population                  0\n",
       "Households                  0\n",
       "Latitude                    0\n",
       "Longitude                   0\n",
       "Distance_to_coast           0\n",
       "Distance_to_LA              0\n",
       "Distance_to_SanDiego        0\n",
       "Distance_to_SanJose         0\n",
       "Distance_to_SanFrancisco    0\n",
       "dtype: int64"
      ]
     },
     "execution_count": 27,
     "metadata": {},
     "output_type": "execute_result"
    }
   ],
   "source": [
    "df.isna().sum()"
   ]
  },
  {
   "cell_type": "code",
   "execution_count": 28,
   "id": "f27425d5",
   "metadata": {},
   "outputs": [
    {
     "data": {
      "text/html": [
       "<div>\n",
       "<style scoped>\n",
       "    .dataframe tbody tr th:only-of-type {\n",
       "        vertical-align: middle;\n",
       "    }\n",
       "\n",
       "    .dataframe tbody tr th {\n",
       "        vertical-align: top;\n",
       "    }\n",
       "\n",
       "    .dataframe thead th {\n",
       "        text-align: right;\n",
       "    }\n",
       "</style>\n",
       "<table border=\"1\" class=\"dataframe\">\n",
       "  <thead>\n",
       "    <tr style=\"text-align: right;\">\n",
       "      <th></th>\n",
       "      <th>Median_House_Value</th>\n",
       "      <th>Median_Income</th>\n",
       "      <th>Median_Age</th>\n",
       "      <th>Tot_Rooms</th>\n",
       "      <th>Tot_Bedrooms</th>\n",
       "      <th>Population</th>\n",
       "      <th>Households</th>\n",
       "      <th>Latitude</th>\n",
       "      <th>Longitude</th>\n",
       "      <th>Distance_to_coast</th>\n",
       "      <th>Distance_to_LA</th>\n",
       "      <th>Distance_to_SanDiego</th>\n",
       "      <th>Distance_to_SanJose</th>\n",
       "      <th>Distance_to_SanFrancisco</th>\n",
       "    </tr>\n",
       "  </thead>\n",
       "  <tbody>\n",
       "    <tr>\n",
       "      <th>0</th>\n",
       "      <td>452600.0</td>\n",
       "      <td>8.3252</td>\n",
       "      <td>41</td>\n",
       "      <td>880</td>\n",
       "      <td>129</td>\n",
       "      <td>322</td>\n",
       "      <td>126</td>\n",
       "      <td>37.88</td>\n",
       "      <td>-122.23</td>\n",
       "      <td>9263.040773</td>\n",
       "      <td>556529.1583</td>\n",
       "      <td>735501.8070</td>\n",
       "      <td>67432.51700</td>\n",
       "      <td>21250.21377</td>\n",
       "    </tr>\n",
       "    <tr>\n",
       "      <th>1</th>\n",
       "      <td>358500.0</td>\n",
       "      <td>8.3014</td>\n",
       "      <td>21</td>\n",
       "      <td>7099</td>\n",
       "      <td>1106</td>\n",
       "      <td>2401</td>\n",
       "      <td>1138</td>\n",
       "      <td>37.86</td>\n",
       "      <td>-122.22</td>\n",
       "      <td>10225.733070</td>\n",
       "      <td>554279.8501</td>\n",
       "      <td>733236.8844</td>\n",
       "      <td>65049.90857</td>\n",
       "      <td>20880.60040</td>\n",
       "    </tr>\n",
       "    <tr>\n",
       "      <th>2</th>\n",
       "      <td>352100.0</td>\n",
       "      <td>7.2574</td>\n",
       "      <td>52</td>\n",
       "      <td>1467</td>\n",
       "      <td>190</td>\n",
       "      <td>496</td>\n",
       "      <td>177</td>\n",
       "      <td>37.85</td>\n",
       "      <td>-122.24</td>\n",
       "      <td>8259.085109</td>\n",
       "      <td>554610.7171</td>\n",
       "      <td>733525.6829</td>\n",
       "      <td>64867.28983</td>\n",
       "      <td>18811.48745</td>\n",
       "    </tr>\n",
       "    <tr>\n",
       "      <th>3</th>\n",
       "      <td>341300.0</td>\n",
       "      <td>5.6431</td>\n",
       "      <td>52</td>\n",
       "      <td>1274</td>\n",
       "      <td>235</td>\n",
       "      <td>558</td>\n",
       "      <td>219</td>\n",
       "      <td>37.85</td>\n",
       "      <td>-122.25</td>\n",
       "      <td>7768.086571</td>\n",
       "      <td>555194.2661</td>\n",
       "      <td>734095.2907</td>\n",
       "      <td>65287.13841</td>\n",
       "      <td>18031.04757</td>\n",
       "    </tr>\n",
       "    <tr>\n",
       "      <th>4</th>\n",
       "      <td>342200.0</td>\n",
       "      <td>3.8462</td>\n",
       "      <td>52</td>\n",
       "      <td>1627</td>\n",
       "      <td>280</td>\n",
       "      <td>565</td>\n",
       "      <td>259</td>\n",
       "      <td>37.85</td>\n",
       "      <td>-122.25</td>\n",
       "      <td>7768.086571</td>\n",
       "      <td>555194.2661</td>\n",
       "      <td>734095.2907</td>\n",
       "      <td>65287.13841</td>\n",
       "      <td>18031.04757</td>\n",
       "    </tr>\n",
       "  </tbody>\n",
       "</table>\n",
       "</div>"
      ],
      "text/plain": [
       "   Median_House_Value  Median_Income  Median_Age  Tot_Rooms  Tot_Bedrooms  \\\n",
       "0            452600.0         8.3252          41        880           129   \n",
       "1            358500.0         8.3014          21       7099          1106   \n",
       "2            352100.0         7.2574          52       1467           190   \n",
       "3            341300.0         5.6431          52       1274           235   \n",
       "4            342200.0         3.8462          52       1627           280   \n",
       "\n",
       "   Population  Households  Latitude  Longitude  Distance_to_coast  \\\n",
       "0         322         126     37.88    -122.23        9263.040773   \n",
       "1        2401        1138     37.86    -122.22       10225.733070   \n",
       "2         496         177     37.85    -122.24        8259.085109   \n",
       "3         558         219     37.85    -122.25        7768.086571   \n",
       "4         565         259     37.85    -122.25        7768.086571   \n",
       "\n",
       "   Distance_to_LA  Distance_to_SanDiego  Distance_to_SanJose  \\\n",
       "0     556529.1583           735501.8070          67432.51700   \n",
       "1     554279.8501           733236.8844          65049.90857   \n",
       "2     554610.7171           733525.6829          64867.28983   \n",
       "3     555194.2661           734095.2907          65287.13841   \n",
       "4     555194.2661           734095.2907          65287.13841   \n",
       "\n",
       "   Distance_to_SanFrancisco  \n",
       "0               21250.21377  \n",
       "1               20880.60040  \n",
       "2               18811.48745  \n",
       "3               18031.04757  \n",
       "4               18031.04757  "
      ]
     },
     "execution_count": 28,
     "metadata": {},
     "output_type": "execute_result"
    }
   ],
   "source": [
    "df.head()"
   ]
  },
  {
   "cell_type": "code",
   "execution_count": 29,
   "id": "7a2e22ae",
   "metadata": {},
   "outputs": [
    {
     "data": {
      "text/html": [
       "<div>\n",
       "<style scoped>\n",
       "    .dataframe tbody tr th:only-of-type {\n",
       "        vertical-align: middle;\n",
       "    }\n",
       "\n",
       "    .dataframe tbody tr th {\n",
       "        vertical-align: top;\n",
       "    }\n",
       "\n",
       "    .dataframe thead th {\n",
       "        text-align: right;\n",
       "    }\n",
       "</style>\n",
       "<table border=\"1\" class=\"dataframe\">\n",
       "  <thead>\n",
       "    <tr style=\"text-align: right;\">\n",
       "      <th></th>\n",
       "      <th>Median_House_Value</th>\n",
       "      <th>Median_Income</th>\n",
       "      <th>Median_Age</th>\n",
       "      <th>Tot_Rooms</th>\n",
       "      <th>Tot_Bedrooms</th>\n",
       "      <th>Population</th>\n",
       "      <th>Households</th>\n",
       "      <th>Latitude</th>\n",
       "      <th>Longitude</th>\n",
       "      <th>Distance_to_coast</th>\n",
       "      <th>Distance_to_LA</th>\n",
       "      <th>Distance_to_SanDiego</th>\n",
       "      <th>Distance_to_SanJose</th>\n",
       "      <th>Distance_to_SanFrancisco</th>\n",
       "    </tr>\n",
       "  </thead>\n",
       "  <tbody>\n",
       "    <tr>\n",
       "      <th>20635</th>\n",
       "      <td>78100.0</td>\n",
       "      <td>1.5603</td>\n",
       "      <td>25</td>\n",
       "      <td>1665</td>\n",
       "      <td>374</td>\n",
       "      <td>845</td>\n",
       "      <td>330</td>\n",
       "      <td>39.48</td>\n",
       "      <td>-121.09</td>\n",
       "      <td>162031.4811</td>\n",
       "      <td>654530.1863</td>\n",
       "      <td>830631.5430</td>\n",
       "      <td>248510.0582</td>\n",
       "      <td>222619.8904</td>\n",
       "    </tr>\n",
       "    <tr>\n",
       "      <th>20636</th>\n",
       "      <td>77100.0</td>\n",
       "      <td>2.5568</td>\n",
       "      <td>18</td>\n",
       "      <td>697</td>\n",
       "      <td>150</td>\n",
       "      <td>356</td>\n",
       "      <td>114</td>\n",
       "      <td>39.49</td>\n",
       "      <td>-121.21</td>\n",
       "      <td>160445.4335</td>\n",
       "      <td>659747.0684</td>\n",
       "      <td>836245.9152</td>\n",
       "      <td>246849.8889</td>\n",
       "      <td>218314.4246</td>\n",
       "    </tr>\n",
       "    <tr>\n",
       "      <th>20637</th>\n",
       "      <td>92300.0</td>\n",
       "      <td>1.7000</td>\n",
       "      <td>17</td>\n",
       "      <td>2254</td>\n",
       "      <td>485</td>\n",
       "      <td>1007</td>\n",
       "      <td>433</td>\n",
       "      <td>39.43</td>\n",
       "      <td>-121.22</td>\n",
       "      <td>153754.3412</td>\n",
       "      <td>654042.2140</td>\n",
       "      <td>830699.5732</td>\n",
       "      <td>240172.2205</td>\n",
       "      <td>212097.9362</td>\n",
       "    </tr>\n",
       "    <tr>\n",
       "      <th>20638</th>\n",
       "      <td>84700.0</td>\n",
       "      <td>1.8672</td>\n",
       "      <td>18</td>\n",
       "      <td>1860</td>\n",
       "      <td>409</td>\n",
       "      <td>741</td>\n",
       "      <td>349</td>\n",
       "      <td>39.43</td>\n",
       "      <td>-121.32</td>\n",
       "      <td>152005.0222</td>\n",
       "      <td>657698.0077</td>\n",
       "      <td>834672.4619</td>\n",
       "      <td>238193.8659</td>\n",
       "      <td>207923.1992</td>\n",
       "    </tr>\n",
       "    <tr>\n",
       "      <th>20639</th>\n",
       "      <td>89400.0</td>\n",
       "      <td>2.3886</td>\n",
       "      <td>16</td>\n",
       "      <td>2785</td>\n",
       "      <td>616</td>\n",
       "      <td>1387</td>\n",
       "      <td>530</td>\n",
       "      <td>39.37</td>\n",
       "      <td>-121.24</td>\n",
       "      <td>146866.1969</td>\n",
       "      <td>648723.3371</td>\n",
       "      <td>825569.1790</td>\n",
       "      <td>233282.7691</td>\n",
       "      <td>205473.3766</td>\n",
       "    </tr>\n",
       "  </tbody>\n",
       "</table>\n",
       "</div>"
      ],
      "text/plain": [
       "       Median_House_Value  Median_Income  Median_Age  Tot_Rooms  Tot_Bedrooms  \\\n",
       "20635             78100.0         1.5603          25       1665           374   \n",
       "20636             77100.0         2.5568          18        697           150   \n",
       "20637             92300.0         1.7000          17       2254           485   \n",
       "20638             84700.0         1.8672          18       1860           409   \n",
       "20639             89400.0         2.3886          16       2785           616   \n",
       "\n",
       "       Population  Households  Latitude  Longitude  Distance_to_coast  \\\n",
       "20635         845         330     39.48    -121.09        162031.4811   \n",
       "20636         356         114     39.49    -121.21        160445.4335   \n",
       "20637        1007         433     39.43    -121.22        153754.3412   \n",
       "20638         741         349     39.43    -121.32        152005.0222   \n",
       "20639        1387         530     39.37    -121.24        146866.1969   \n",
       "\n",
       "       Distance_to_LA  Distance_to_SanDiego  Distance_to_SanJose  \\\n",
       "20635     654530.1863           830631.5430          248510.0582   \n",
       "20636     659747.0684           836245.9152          246849.8889   \n",
       "20637     654042.2140           830699.5732          240172.2205   \n",
       "20638     657698.0077           834672.4619          238193.8659   \n",
       "20639     648723.3371           825569.1790          233282.7691   \n",
       "\n",
       "       Distance_to_SanFrancisco  \n",
       "20635               222619.8904  \n",
       "20636               218314.4246  \n",
       "20637               212097.9362  \n",
       "20638               207923.1992  \n",
       "20639               205473.3766  "
      ]
     },
     "execution_count": 29,
     "metadata": {},
     "output_type": "execute_result"
    }
   ],
   "source": [
    "df.tail()"
   ]
  },
  {
   "cell_type": "code",
   "execution_count": 30,
   "id": "23fa7373",
   "metadata": {},
   "outputs": [
    {
     "data": {
      "text/html": [
       "<div>\n",
       "<style scoped>\n",
       "    .dataframe tbody tr th:only-of-type {\n",
       "        vertical-align: middle;\n",
       "    }\n",
       "\n",
       "    .dataframe tbody tr th {\n",
       "        vertical-align: top;\n",
       "    }\n",
       "\n",
       "    .dataframe thead th {\n",
       "        text-align: right;\n",
       "    }\n",
       "</style>\n",
       "<table border=\"1\" class=\"dataframe\">\n",
       "  <thead>\n",
       "    <tr style=\"text-align: right;\">\n",
       "      <th></th>\n",
       "      <th>Median_House_Value</th>\n",
       "      <th>Median_Income</th>\n",
       "      <th>Median_Age</th>\n",
       "      <th>Tot_Rooms</th>\n",
       "      <th>Tot_Bedrooms</th>\n",
       "      <th>Population</th>\n",
       "      <th>Households</th>\n",
       "      <th>Latitude</th>\n",
       "      <th>Longitude</th>\n",
       "      <th>Distance_to_coast</th>\n",
       "      <th>Distance_to_LA</th>\n",
       "      <th>Distance_to_SanDiego</th>\n",
       "      <th>Distance_to_SanJose</th>\n",
       "      <th>Distance_to_SanFrancisco</th>\n",
       "    </tr>\n",
       "  </thead>\n",
       "  <tbody>\n",
       "    <tr>\n",
       "      <th>count</th>\n",
       "      <td>20640.000000</td>\n",
       "      <td>20640.000000</td>\n",
       "      <td>20640.000000</td>\n",
       "      <td>20640.000000</td>\n",
       "      <td>20640.000000</td>\n",
       "      <td>20640.000000</td>\n",
       "      <td>20640.000000</td>\n",
       "      <td>20640.000000</td>\n",
       "      <td>20640.000000</td>\n",
       "      <td>20640.000000</td>\n",
       "      <td>2.064000e+04</td>\n",
       "      <td>2.064000e+04</td>\n",
       "      <td>20640.000000</td>\n",
       "      <td>20640.000000</td>\n",
       "    </tr>\n",
       "    <tr>\n",
       "      <th>mean</th>\n",
       "      <td>206855.816909</td>\n",
       "      <td>3.870671</td>\n",
       "      <td>28.639486</td>\n",
       "      <td>2635.763081</td>\n",
       "      <td>537.898014</td>\n",
       "      <td>1425.476744</td>\n",
       "      <td>499.539680</td>\n",
       "      <td>35.631861</td>\n",
       "      <td>-119.569704</td>\n",
       "      <td>40509.264883</td>\n",
       "      <td>2.694220e+05</td>\n",
       "      <td>3.981649e+05</td>\n",
       "      <td>349187.551219</td>\n",
       "      <td>386688.422291</td>\n",
       "    </tr>\n",
       "    <tr>\n",
       "      <th>std</th>\n",
       "      <td>115395.615874</td>\n",
       "      <td>1.899822</td>\n",
       "      <td>12.585558</td>\n",
       "      <td>2181.615252</td>\n",
       "      <td>421.247906</td>\n",
       "      <td>1132.462122</td>\n",
       "      <td>382.329753</td>\n",
       "      <td>2.135952</td>\n",
       "      <td>2.003532</td>\n",
       "      <td>49140.039160</td>\n",
       "      <td>2.477324e+05</td>\n",
       "      <td>2.894006e+05</td>\n",
       "      <td>217149.875026</td>\n",
       "      <td>250122.192316</td>\n",
       "    </tr>\n",
       "    <tr>\n",
       "      <th>min</th>\n",
       "      <td>14999.000000</td>\n",
       "      <td>0.499900</td>\n",
       "      <td>1.000000</td>\n",
       "      <td>2.000000</td>\n",
       "      <td>1.000000</td>\n",
       "      <td>3.000000</td>\n",
       "      <td>1.000000</td>\n",
       "      <td>32.540000</td>\n",
       "      <td>-124.350000</td>\n",
       "      <td>120.676447</td>\n",
       "      <td>4.205891e+02</td>\n",
       "      <td>4.849180e+02</td>\n",
       "      <td>569.448118</td>\n",
       "      <td>456.141313</td>\n",
       "    </tr>\n",
       "    <tr>\n",
       "      <th>25%</th>\n",
       "      <td>119600.000000</td>\n",
       "      <td>2.563400</td>\n",
       "      <td>18.000000</td>\n",
       "      <td>1447.750000</td>\n",
       "      <td>295.000000</td>\n",
       "      <td>787.000000</td>\n",
       "      <td>280.000000</td>\n",
       "      <td>33.930000</td>\n",
       "      <td>-121.800000</td>\n",
       "      <td>9079.756762</td>\n",
       "      <td>3.211125e+04</td>\n",
       "      <td>1.594264e+05</td>\n",
       "      <td>113119.928650</td>\n",
       "      <td>117395.477500</td>\n",
       "    </tr>\n",
       "    <tr>\n",
       "      <th>50%</th>\n",
       "      <td>179700.000000</td>\n",
       "      <td>3.534800</td>\n",
       "      <td>29.000000</td>\n",
       "      <td>2127.000000</td>\n",
       "      <td>435.000000</td>\n",
       "      <td>1166.000000</td>\n",
       "      <td>409.000000</td>\n",
       "      <td>34.260000</td>\n",
       "      <td>-118.490000</td>\n",
       "      <td>20522.019100</td>\n",
       "      <td>1.736675e+05</td>\n",
       "      <td>2.147398e+05</td>\n",
       "      <td>459758.877000</td>\n",
       "      <td>526546.661700</td>\n",
       "    </tr>\n",
       "    <tr>\n",
       "      <th>75%</th>\n",
       "      <td>264725.000000</td>\n",
       "      <td>4.743250</td>\n",
       "      <td>37.000000</td>\n",
       "      <td>3148.000000</td>\n",
       "      <td>647.000000</td>\n",
       "      <td>1725.000000</td>\n",
       "      <td>605.000000</td>\n",
       "      <td>37.710000</td>\n",
       "      <td>-118.010000</td>\n",
       "      <td>49830.414478</td>\n",
       "      <td>5.271562e+05</td>\n",
       "      <td>7.057954e+05</td>\n",
       "      <td>516946.491000</td>\n",
       "      <td>584552.007950</td>\n",
       "    </tr>\n",
       "    <tr>\n",
       "      <th>max</th>\n",
       "      <td>500001.000000</td>\n",
       "      <td>15.000100</td>\n",
       "      <td>52.000000</td>\n",
       "      <td>39320.000000</td>\n",
       "      <td>6445.000000</td>\n",
       "      <td>35682.000000</td>\n",
       "      <td>6082.000000</td>\n",
       "      <td>41.950000</td>\n",
       "      <td>-114.310000</td>\n",
       "      <td>333804.686400</td>\n",
       "      <td>1.018260e+06</td>\n",
       "      <td>1.196919e+06</td>\n",
       "      <td>836762.678200</td>\n",
       "      <td>903627.663300</td>\n",
       "    </tr>\n",
       "  </tbody>\n",
       "</table>\n",
       "</div>"
      ],
      "text/plain": [
       "       Median_House_Value  Median_Income    Median_Age     Tot_Rooms  \\\n",
       "count        20640.000000   20640.000000  20640.000000  20640.000000   \n",
       "mean        206855.816909       3.870671     28.639486   2635.763081   \n",
       "std         115395.615874       1.899822     12.585558   2181.615252   \n",
       "min          14999.000000       0.499900      1.000000      2.000000   \n",
       "25%         119600.000000       2.563400     18.000000   1447.750000   \n",
       "50%         179700.000000       3.534800     29.000000   2127.000000   \n",
       "75%         264725.000000       4.743250     37.000000   3148.000000   \n",
       "max         500001.000000      15.000100     52.000000  39320.000000   \n",
       "\n",
       "       Tot_Bedrooms    Population    Households      Latitude     Longitude  \\\n",
       "count  20640.000000  20640.000000  20640.000000  20640.000000  20640.000000   \n",
       "mean     537.898014   1425.476744    499.539680     35.631861   -119.569704   \n",
       "std      421.247906   1132.462122    382.329753      2.135952      2.003532   \n",
       "min        1.000000      3.000000      1.000000     32.540000   -124.350000   \n",
       "25%      295.000000    787.000000    280.000000     33.930000   -121.800000   \n",
       "50%      435.000000   1166.000000    409.000000     34.260000   -118.490000   \n",
       "75%      647.000000   1725.000000    605.000000     37.710000   -118.010000   \n",
       "max     6445.000000  35682.000000   6082.000000     41.950000   -114.310000   \n",
       "\n",
       "       Distance_to_coast  Distance_to_LA  Distance_to_SanDiego  \\\n",
       "count       20640.000000    2.064000e+04          2.064000e+04   \n",
       "mean        40509.264883    2.694220e+05          3.981649e+05   \n",
       "std         49140.039160    2.477324e+05          2.894006e+05   \n",
       "min           120.676447    4.205891e+02          4.849180e+02   \n",
       "25%          9079.756762    3.211125e+04          1.594264e+05   \n",
       "50%         20522.019100    1.736675e+05          2.147398e+05   \n",
       "75%         49830.414478    5.271562e+05          7.057954e+05   \n",
       "max        333804.686400    1.018260e+06          1.196919e+06   \n",
       "\n",
       "       Distance_to_SanJose  Distance_to_SanFrancisco  \n",
       "count         20640.000000              20640.000000  \n",
       "mean         349187.551219             386688.422291  \n",
       "std          217149.875026             250122.192316  \n",
       "min             569.448118                456.141313  \n",
       "25%          113119.928650             117395.477500  \n",
       "50%          459758.877000             526546.661700  \n",
       "75%          516946.491000             584552.007950  \n",
       "max          836762.678200             903627.663300  "
      ]
     },
     "execution_count": 30,
     "metadata": {},
     "output_type": "execute_result"
    }
   ],
   "source": [
    "df.describe()"
   ]
  },
  {
   "cell_type": "code",
   "execution_count": null,
   "id": "4344dd21",
   "metadata": {},
   "outputs": [],
   "source": [
    "#I do not see any missing values. The mean median age is about 28.6 and the mean median income is about 3.87."
   ]
  },
  {
   "cell_type": "code",
   "execution_count": 33,
   "id": "8ce67f0f",
   "metadata": {},
   "outputs": [],
   "source": [
    "y = df[\"Median_House_Value\"]"
   ]
  },
  {
   "cell_type": "code",
   "execution_count": 34,
   "id": "158810d0",
   "metadata": {},
   "outputs": [],
   "source": [
    "x = df.loc[:, df.columns != \"Median_House_Value\"]"
   ]
  },
  {
   "cell_type": "code",
   "execution_count": 37,
   "id": "c2cb32ff",
   "metadata": {},
   "outputs": [],
   "source": [
    "X_train, X_test, y_train, y_test = train_test_split(x, y, test_size=0.1, )"
   ]
  },
  {
   "cell_type": "code",
   "execution_count": 38,
   "id": "1d75d5a5",
   "metadata": {},
   "outputs": [],
   "source": [
    "model = LinearRegression()"
   ]
  },
  {
   "cell_type": "code",
   "execution_count": 39,
   "id": "d6dbab37",
   "metadata": {},
   "outputs": [
    {
     "data": {
      "text/html": [
       "<style>#sk-container-id-1 {color: black;background-color: white;}#sk-container-id-1 pre{padding: 0;}#sk-container-id-1 div.sk-toggleable {background-color: white;}#sk-container-id-1 label.sk-toggleable__label {cursor: pointer;display: block;width: 100%;margin-bottom: 0;padding: 0.3em;box-sizing: border-box;text-align: center;}#sk-container-id-1 label.sk-toggleable__label-arrow:before {content: \"▸\";float: left;margin-right: 0.25em;color: #696969;}#sk-container-id-1 label.sk-toggleable__label-arrow:hover:before {color: black;}#sk-container-id-1 div.sk-estimator:hover label.sk-toggleable__label-arrow:before {color: black;}#sk-container-id-1 div.sk-toggleable__content {max-height: 0;max-width: 0;overflow: hidden;text-align: left;background-color: #f0f8ff;}#sk-container-id-1 div.sk-toggleable__content pre {margin: 0.2em;color: black;border-radius: 0.25em;background-color: #f0f8ff;}#sk-container-id-1 input.sk-toggleable__control:checked~div.sk-toggleable__content {max-height: 200px;max-width: 100%;overflow: auto;}#sk-container-id-1 input.sk-toggleable__control:checked~label.sk-toggleable__label-arrow:before {content: \"▾\";}#sk-container-id-1 div.sk-estimator input.sk-toggleable__control:checked~label.sk-toggleable__label {background-color: #d4ebff;}#sk-container-id-1 div.sk-label input.sk-toggleable__control:checked~label.sk-toggleable__label {background-color: #d4ebff;}#sk-container-id-1 input.sk-hidden--visually {border: 0;clip: rect(1px 1px 1px 1px);clip: rect(1px, 1px, 1px, 1px);height: 1px;margin: -1px;overflow: hidden;padding: 0;position: absolute;width: 1px;}#sk-container-id-1 div.sk-estimator {font-family: monospace;background-color: #f0f8ff;border: 1px dotted black;border-radius: 0.25em;box-sizing: border-box;margin-bottom: 0.5em;}#sk-container-id-1 div.sk-estimator:hover {background-color: #d4ebff;}#sk-container-id-1 div.sk-parallel-item::after {content: \"\";width: 100%;border-bottom: 1px solid gray;flex-grow: 1;}#sk-container-id-1 div.sk-label:hover label.sk-toggleable__label {background-color: #d4ebff;}#sk-container-id-1 div.sk-serial::before {content: \"\";position: absolute;border-left: 1px solid gray;box-sizing: border-box;top: 0;bottom: 0;left: 50%;z-index: 0;}#sk-container-id-1 div.sk-serial {display: flex;flex-direction: column;align-items: center;background-color: white;padding-right: 0.2em;padding-left: 0.2em;position: relative;}#sk-container-id-1 div.sk-item {position: relative;z-index: 1;}#sk-container-id-1 div.sk-parallel {display: flex;align-items: stretch;justify-content: center;background-color: white;position: relative;}#sk-container-id-1 div.sk-item::before, #sk-container-id-1 div.sk-parallel-item::before {content: \"\";position: absolute;border-left: 1px solid gray;box-sizing: border-box;top: 0;bottom: 0;left: 50%;z-index: -1;}#sk-container-id-1 div.sk-parallel-item {display: flex;flex-direction: column;z-index: 1;position: relative;background-color: white;}#sk-container-id-1 div.sk-parallel-item:first-child::after {align-self: flex-end;width: 50%;}#sk-container-id-1 div.sk-parallel-item:last-child::after {align-self: flex-start;width: 50%;}#sk-container-id-1 div.sk-parallel-item:only-child::after {width: 0;}#sk-container-id-1 div.sk-dashed-wrapped {border: 1px dashed gray;margin: 0 0.4em 0.5em 0.4em;box-sizing: border-box;padding-bottom: 0.4em;background-color: white;}#sk-container-id-1 div.sk-label label {font-family: monospace;font-weight: bold;display: inline-block;line-height: 1.2em;}#sk-container-id-1 div.sk-label-container {text-align: center;}#sk-container-id-1 div.sk-container {/* jupyter's `normalize.less` sets `[hidden] { display: none; }` but bootstrap.min.css set `[hidden] { display: none !important; }` so we also need the `!important` here to be able to override the default hidden behavior on the sphinx rendered scikit-learn.org. See: https://github.com/scikit-learn/scikit-learn/issues/21755 */display: inline-block !important;position: relative;}#sk-container-id-1 div.sk-text-repr-fallback {display: none;}</style><div id=\"sk-container-id-1\" class=\"sk-top-container\"><div class=\"sk-text-repr-fallback\"><pre>LinearRegression()</pre><b>In a Jupyter environment, please rerun this cell to show the HTML representation or trust the notebook. <br />On GitHub, the HTML representation is unable to render, please try loading this page with nbviewer.org.</b></div><div class=\"sk-container\" hidden><div class=\"sk-item\"><div class=\"sk-estimator sk-toggleable\"><input class=\"sk-toggleable__control sk-hidden--visually\" id=\"sk-estimator-id-1\" type=\"checkbox\" checked><label for=\"sk-estimator-id-1\" class=\"sk-toggleable__label sk-toggleable__label-arrow\">LinearRegression</label><div class=\"sk-toggleable__content\"><pre>LinearRegression()</pre></div></div></div></div></div>"
      ],
      "text/plain": [
       "LinearRegression()"
      ]
     },
     "execution_count": 39,
     "metadata": {},
     "output_type": "execute_result"
    }
   ],
   "source": [
    "model.fit(X_train, y_train)"
   ]
  },
  {
   "cell_type": "code",
   "execution_count": 40,
   "id": "04c923a2",
   "metadata": {},
   "outputs": [
    {
     "data": {
      "text/plain": [
       "array([ 3.90101544e+04,  8.94405325e+02, -5.89489380e+00,  1.01503941e+02,\n",
       "       -3.91382957e+01,  4.83978243e+01, -4.34361717e+04, -2.77072942e+04,\n",
       "       -2.35532902e-01, -1.43746227e-01,  2.28233853e-01,  1.60095749e-01,\n",
       "       -1.37400194e-01])"
      ]
     },
     "execution_count": 40,
     "metadata": {},
     "output_type": "execute_result"
    }
   ],
   "source": [
    "model.coef_"
   ]
  },
  {
   "cell_type": "code",
   "execution_count": 41,
   "id": "db85efc6",
   "metadata": {},
   "outputs": [
    {
     "name": "stdout",
     "output_type": "stream",
     "text": [
      "-1787879.7774636957 [ 3.90101544e+04  8.94405325e+02 -5.89489380e+00  1.01503941e+02\n",
      " -3.91382957e+01  4.83978243e+01 -4.34361717e+04 -2.77072942e+04\n",
      " -2.35532902e-01 -1.43746227e-01  2.28233853e-01  1.60095749e-01\n",
      " -1.37400194e-01] 0.6689725856488574\n"
     ]
    }
   ],
   "source": [
    "print(model.intercept_, model.coef_,model.score(X_test, y_test))"
   ]
  },
  {
   "cell_type": "code",
   "execution_count": 42,
   "id": "9c0c72bb",
   "metadata": {},
   "outputs": [],
   "source": [
    "#above are the coefficients and the intercept (-1787879.7774636957) and the R squared (0.6689725856488574)"
   ]
  },
  {
   "cell_type": "code",
   "execution_count": null,
   "id": "62458090",
   "metadata": {},
   "outputs": [],
   "source": [
    "# The R squared tells us the model is an ok fit. 66.9% of the variance in Median_House_Value can be explained by the x's"
   ]
  },
  {
   "cell_type": "code",
   "execution_count": 44,
   "id": "75befc73",
   "metadata": {},
   "outputs": [
    {
     "data": {
      "text/plain": [
       "array([288581.97411563, 227978.17401116, 176428.46527754, ...,\n",
       "       108721.8229736 , 133861.73750551, 178153.93966824])"
      ]
     },
     "execution_count": 44,
     "metadata": {},
     "output_type": "execute_result"
    }
   ],
   "source": [
    "y_pred = model.predict(X_test)\n",
    "y_pred"
   ]
  },
  {
   "cell_type": "code",
   "execution_count": 46,
   "id": "c4b50a93",
   "metadata": {},
   "outputs": [
    {
     "data": {
      "text/plain": [
       "49921.92180180502"
      ]
     },
     "execution_count": 46,
     "metadata": {},
     "output_type": "execute_result"
    }
   ],
   "source": [
    "MAE = mean_absolute_error(y_test,y_pred)\n",
    "MAE"
   ]
  },
  {
   "cell_type": "code",
   "execution_count": 47,
   "id": "19896afe",
   "metadata": {},
   "outputs": [
    {
     "data": {
      "text/plain": [
       "4512871753.162489"
      ]
     },
     "execution_count": 47,
     "metadata": {},
     "output_type": "execute_result"
    }
   ],
   "source": [
    "MSE = mean_squared_error(y_test,y_pred)\n",
    "MSE"
   ]
  },
  {
   "cell_type": "code",
   "execution_count": 48,
   "id": "3a897afb",
   "metadata": {},
   "outputs": [
    {
     "data": {
      "text/plain": [
       "0.3011551243652538"
      ]
     },
     "execution_count": 48,
     "metadata": {},
     "output_type": "execute_result"
    }
   ],
   "source": [
    "MAPE =  mean_absolute_percentage_error(y_test,y_pred)\n",
    "MAPE"
   ]
  },
  {
   "cell_type": "code",
   "execution_count": null,
   "id": "1d2d48e3",
   "metadata": {},
   "outputs": [],
   "source": []
  },
  {
   "cell_type": "code",
   "execution_count": null,
   "id": "7def51b1",
   "metadata": {},
   "outputs": [],
   "source": []
  },
  {
   "cell_type": "code",
   "execution_count": null,
   "id": "0f5aeae5",
   "metadata": {},
   "outputs": [],
   "source": []
  }
 ],
 "metadata": {
  "kernelspec": {
   "display_name": "Python 3 (ipykernel)",
   "language": "python",
   "name": "python3"
  },
  "language_info": {
   "codemirror_mode": {
    "name": "ipython",
    "version": 3
   },
   "file_extension": ".py",
   "mimetype": "text/x-python",
   "name": "python",
   "nbconvert_exporter": "python",
   "pygments_lexer": "ipython3",
   "version": "3.10.9"
  }
 },
 "nbformat": 4,
 "nbformat_minor": 5
}

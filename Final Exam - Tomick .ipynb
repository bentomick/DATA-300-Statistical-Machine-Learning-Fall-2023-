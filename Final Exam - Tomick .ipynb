{
 "cells": [
  {
   "cell_type": "code",
   "execution_count": 1,
   "id": "6bbb650c",
   "metadata": {},
   "outputs": [],
   "source": [
    "import pandas as pd # v 1.5.3\n",
    "import numpy as np # v 1.21.5\n",
    "import statsmodels.api as sm # v 0.13.5\n",
    "import matplotlib.pyplot as plt # 3.6.3\n",
    "import seaborn as sns #0. 12. 2\n",
    "\n",
    "\n",
    "import warnings as ww\n",
    "import statsmodels.tsa.stattools as stattools  # v 0.13.5\n",
    "\n",
    "from sklearn.ensemble import RandomForestClassifier\n",
    "from sklearn.svm import SVC\n",
    "from sklearn.linear_model import LogisticRegression\n",
    "from sklearn.linear_model import LinearRegression\n",
    "from sklearn.tree import DecisionTreeRegressor\n",
    "from sklearn.linear_model import Lasso\n",
    "from sklearn.feature_selection import SelectKBest, f_regression\n",
    "from sklearn.tree import DecisionTreeClassifier\n",
    "from sklearn.tree import export_text\n",
    "from itertools import combinations\n",
    "from sklearn.model_selection import train_test_split\n",
    "from sklearn.metrics import confusion_matrix\n",
    "from sklearn.metrics import roc_curve, auc\n",
    "from sklearn.discriminant_analysis import LinearDiscriminantAnalysis\n",
    "from sklearn.metrics import accuracy_score, precision_score, recall_score\n",
    "from sklearn.utils import resample\n",
    "from imblearn.over_sampling import SMOTE\n",
    "\n",
    "from statsmodels.tsa.stattools import adfuller # v 0.13.5\n",
    "from statsmodels.graphics.tsaplots import plot_acf, plot_pacf # v 0.13.5\n",
    "from statsmodels.tsa.arima_model import ARIMA # v 0.13.5\n",
    "\n",
    "from sklearn.metrics import mean_absolute_error\n",
    "from sklearn.metrics import mean_squared_error"
   ]
  },
  {
   "cell_type": "code",
   "execution_count": 2,
   "id": "4e834189",
   "metadata": {},
   "outputs": [
    {
     "data": {
      "text/plain": [
       "((6819, 96),\n",
       " Index(['Bankrupt', ' ROA(C) before interest and depreciation before interest',\n",
       "        ' ROA(A) before interest and % after tax',\n",
       "        ' ROA(B) before interest and depreciation after tax',\n",
       "        ' Operating Gross Margin', ' Realized Sales Gross Margin',\n",
       "        ' Operating Profit Rate', ' Pre-tax net Interest Rate',\n",
       "        ' After-tax net Interest Rate',\n",
       "        ' Non-industry income and expenditure/revenue',\n",
       "        ' Continuous interest rate (after tax)', ' Operating Expense Rate',\n",
       "        ' Research and development expense rate', ' Cash flow rate',\n",
       "        ' Interest-bearing debt interest rate', ' Tax rate (A)',\n",
       "        ' Net Value Per Share (B)', ' Net Value Per Share (A)',\n",
       "        ' Net Value Per Share (C)', ' Persistent EPS in the Last Four Seasons',\n",
       "        ' Cash Flow Per Share', ' Revenue Per Share (Yuan ¥)',\n",
       "        ' Operating Profit Per Share (Yuan ¥)',\n",
       "        ' Per Share Net profit before tax (Yuan ¥)',\n",
       "        ' Realized Sales Gross Profit Growth Rate',\n",
       "        ' Operating Profit Growth Rate', ' After-tax Net Profit Growth Rate',\n",
       "        ' Regular Net Profit Growth Rate', ' Continuous Net Profit Growth Rate',\n",
       "        ' Total Asset Growth Rate', ' Net Value Growth Rate',\n",
       "        ' Total Asset Return Growth Rate Ratio', ' Cash Reinvestment %',\n",
       "        ' Current Ratio', ' Quick Ratio', ' Interest Expense Ratio',\n",
       "        ' Total debt/Total net worth', ' Debt ratio %', ' Net worth/Assets',\n",
       "        ' Long-term fund suitability ratio (A)', ' Borrowing dependency',\n",
       "        ' Contingent liabilities/Net worth',\n",
       "        ' Operating profit/Paid-in capital',\n",
       "        ' Net profit before tax/Paid-in capital',\n",
       "        ' Inventory and accounts receivable/Net value', ' Total Asset Turnover',\n",
       "        ' Accounts Receivable Turnover', ' Average Collection Days',\n",
       "        ' Inventory Turnover Rate (times)', ' Fixed Assets Turnover Frequency',\n",
       "        ' Net Worth Turnover Rate (times)', ' Revenue per person',\n",
       "        ' Operating profit per person', ' Allocation rate per person',\n",
       "        ' Working Capital to Total Assets', ' Quick Assets/Total Assets',\n",
       "        ' Current Assets/Total Assets', ' Cash/Total Assets',\n",
       "        ' Quick Assets/Current Liability', ' Cash/Current Liability',\n",
       "        ' Current Liability to Assets', ' Operating Funds to Liability',\n",
       "        ' Inventory/Working Capital', ' Inventory/Current Liability',\n",
       "        ' Current Liabilities/Liability', ' Working Capital/Equity',\n",
       "        ' Current Liabilities/Equity', ' Long-term Liability to Current Assets',\n",
       "        ' Retained Earnings to Total Assets', ' Total income/Total expense',\n",
       "        ' Total expense/Assets', ' Current Asset Turnover Rate',\n",
       "        ' Quick Asset Turnover Rate', ' Working capitcal Turnover Rate',\n",
       "        ' Cash Turnover Rate', ' Cash Flow to Sales', ' Fixed Assets to Assets',\n",
       "        ' Current Liability to Liability', ' Current Liability to Equity',\n",
       "        ' Equity to Long-term Liability', ' Cash Flow to Total Assets',\n",
       "        ' Cash Flow to Liability', ' CFO to Assets', ' Cash Flow to Equity',\n",
       "        ' Current Liability to Current Assets', ' Liability-Assets Flag',\n",
       "        ' Net Income to Total Assets', ' Total assets to GNP price',\n",
       "        ' No-credit Interval', ' Gross Profit to Sales',\n",
       "        ' Net Income to Stockholder's Equity', ' Liability to Equity',\n",
       "        ' Degree of Financial Leverage (DFL)',\n",
       "        ' Interest Coverage Ratio (Interest expense to EBIT)',\n",
       "        ' Net Income Flag', ' Equity to Liability'],\n",
       "       dtype='object'),\n",
       " Bankrupt                                                      int64\n",
       "  ROA(C) before interest and depreciation before interest    float64\n",
       "  ROA(A) before interest and % after tax                     float64\n",
       "  ROA(B) before interest and depreciation after tax          float64\n",
       "  Operating Gross Margin                                     float64\n",
       "                                                              ...   \n",
       "  Liability to Equity                                        float64\n",
       "  Degree of Financial Leverage (DFL)                         float64\n",
       "  Interest Coverage Ratio (Interest expense to EBIT)         float64\n",
       "  Net Income Flag                                              int64\n",
       "  Equity to Liability                                        float64\n",
       " Length: 96, dtype: object)"
      ]
     },
     "execution_count": 2,
     "metadata": {},
     "output_type": "execute_result"
    }
   ],
   "source": [
    "df = pd.read_csv (\"C:/Users/btomi/Downloads/company_bankruptcy_data.csv\")\n",
    "\n",
    "df.shape, df.columns, df.dtypes\n",
    "#Importing the data and getting some general EDA"
   ]
  },
  {
   "cell_type": "code",
   "execution_count": 3,
   "id": "7cf14716",
   "metadata": {
    "scrolled": true
   },
   "outputs": [
    {
     "data": {
      "text/plain": [
       "Bankrupt                                                    0\n",
       " ROA(C) before interest and depreciation before interest    0\n",
       " ROA(A) before interest and % after tax                     0\n",
       " ROA(B) before interest and depreciation after tax          0\n",
       " Operating Gross Margin                                     0\n",
       "                                                           ..\n",
       " Liability to Equity                                        0\n",
       " Degree of Financial Leverage (DFL)                         0\n",
       " Interest Coverage Ratio (Interest expense to EBIT)         0\n",
       " Net Income Flag                                            0\n",
       " Equity to Liability                                        0\n",
       "Length: 96, dtype: int64"
      ]
     },
     "execution_count": 3,
     "metadata": {},
     "output_type": "execute_result"
    }
   ],
   "source": [
    "df.isna().sum()\n",
    "#checking for missing values"
   ]
  },
  {
   "cell_type": "code",
   "execution_count": 4,
   "id": "2873b1b1",
   "metadata": {
    "scrolled": true
   },
   "outputs": [
    {
     "data": {
      "text/html": [
       "<div>\n",
       "<style scoped>\n",
       "    .dataframe tbody tr th:only-of-type {\n",
       "        vertical-align: middle;\n",
       "    }\n",
       "\n",
       "    .dataframe tbody tr th {\n",
       "        vertical-align: top;\n",
       "    }\n",
       "\n",
       "    .dataframe thead th {\n",
       "        text-align: right;\n",
       "    }\n",
       "</style>\n",
       "<table border=\"1\" class=\"dataframe\">\n",
       "  <thead>\n",
       "    <tr style=\"text-align: right;\">\n",
       "      <th></th>\n",
       "      <th>Bankrupt</th>\n",
       "      <th>ROA(C) before interest and depreciation before interest</th>\n",
       "      <th>ROA(A) before interest and % after tax</th>\n",
       "      <th>ROA(B) before interest and depreciation after tax</th>\n",
       "      <th>Operating Gross Margin</th>\n",
       "      <th>Realized Sales Gross Margin</th>\n",
       "      <th>Operating Profit Rate</th>\n",
       "      <th>Pre-tax net Interest Rate</th>\n",
       "      <th>After-tax net Interest Rate</th>\n",
       "      <th>Non-industry income and expenditure/revenue</th>\n",
       "      <th>...</th>\n",
       "      <th>Net Income to Total Assets</th>\n",
       "      <th>Total assets to GNP price</th>\n",
       "      <th>No-credit Interval</th>\n",
       "      <th>Gross Profit to Sales</th>\n",
       "      <th>Net Income to Stockholder's Equity</th>\n",
       "      <th>Liability to Equity</th>\n",
       "      <th>Degree of Financial Leverage (DFL)</th>\n",
       "      <th>Interest Coverage Ratio (Interest expense to EBIT)</th>\n",
       "      <th>Net Income Flag</th>\n",
       "      <th>Equity to Liability</th>\n",
       "    </tr>\n",
       "  </thead>\n",
       "  <tbody>\n",
       "    <tr>\n",
       "      <th>count</th>\n",
       "      <td>6819.000000</td>\n",
       "      <td>6819.000000</td>\n",
       "      <td>6819.000000</td>\n",
       "      <td>6819.000000</td>\n",
       "      <td>6819.000000</td>\n",
       "      <td>6819.000000</td>\n",
       "      <td>6819.000000</td>\n",
       "      <td>6819.000000</td>\n",
       "      <td>6819.000000</td>\n",
       "      <td>6819.000000</td>\n",
       "      <td>...</td>\n",
       "      <td>6819.000000</td>\n",
       "      <td>6.819000e+03</td>\n",
       "      <td>6819.000000</td>\n",
       "      <td>6819.000000</td>\n",
       "      <td>6819.000000</td>\n",
       "      <td>6819.000000</td>\n",
       "      <td>6819.000000</td>\n",
       "      <td>6819.000000</td>\n",
       "      <td>6819.0</td>\n",
       "      <td>6819.000000</td>\n",
       "    </tr>\n",
       "    <tr>\n",
       "      <th>mean</th>\n",
       "      <td>0.032263</td>\n",
       "      <td>0.505180</td>\n",
       "      <td>0.558625</td>\n",
       "      <td>0.553589</td>\n",
       "      <td>0.607948</td>\n",
       "      <td>0.607929</td>\n",
       "      <td>0.998755</td>\n",
       "      <td>0.797190</td>\n",
       "      <td>0.809084</td>\n",
       "      <td>0.303623</td>\n",
       "      <td>...</td>\n",
       "      <td>0.807760</td>\n",
       "      <td>1.862942e+07</td>\n",
       "      <td>0.623915</td>\n",
       "      <td>0.607946</td>\n",
       "      <td>0.840402</td>\n",
       "      <td>0.280365</td>\n",
       "      <td>0.027541</td>\n",
       "      <td>0.565358</td>\n",
       "      <td>1.0</td>\n",
       "      <td>0.047578</td>\n",
       "    </tr>\n",
       "    <tr>\n",
       "      <th>std</th>\n",
       "      <td>0.176710</td>\n",
       "      <td>0.060686</td>\n",
       "      <td>0.065620</td>\n",
       "      <td>0.061595</td>\n",
       "      <td>0.016934</td>\n",
       "      <td>0.016916</td>\n",
       "      <td>0.013010</td>\n",
       "      <td>0.012869</td>\n",
       "      <td>0.013601</td>\n",
       "      <td>0.011163</td>\n",
       "      <td>...</td>\n",
       "      <td>0.040332</td>\n",
       "      <td>3.764501e+08</td>\n",
       "      <td>0.012290</td>\n",
       "      <td>0.016934</td>\n",
       "      <td>0.014523</td>\n",
       "      <td>0.014463</td>\n",
       "      <td>0.015668</td>\n",
       "      <td>0.013214</td>\n",
       "      <td>0.0</td>\n",
       "      <td>0.050014</td>\n",
       "    </tr>\n",
       "    <tr>\n",
       "      <th>min</th>\n",
       "      <td>0.000000</td>\n",
       "      <td>0.000000</td>\n",
       "      <td>0.000000</td>\n",
       "      <td>0.000000</td>\n",
       "      <td>0.000000</td>\n",
       "      <td>0.000000</td>\n",
       "      <td>0.000000</td>\n",
       "      <td>0.000000</td>\n",
       "      <td>0.000000</td>\n",
       "      <td>0.000000</td>\n",
       "      <td>...</td>\n",
       "      <td>0.000000</td>\n",
       "      <td>0.000000e+00</td>\n",
       "      <td>0.000000</td>\n",
       "      <td>0.000000</td>\n",
       "      <td>0.000000</td>\n",
       "      <td>0.000000</td>\n",
       "      <td>0.000000</td>\n",
       "      <td>0.000000</td>\n",
       "      <td>1.0</td>\n",
       "      <td>0.000000</td>\n",
       "    </tr>\n",
       "    <tr>\n",
       "      <th>25%</th>\n",
       "      <td>0.000000</td>\n",
       "      <td>0.476527</td>\n",
       "      <td>0.535543</td>\n",
       "      <td>0.527277</td>\n",
       "      <td>0.600445</td>\n",
       "      <td>0.600434</td>\n",
       "      <td>0.998969</td>\n",
       "      <td>0.797386</td>\n",
       "      <td>0.809312</td>\n",
       "      <td>0.303466</td>\n",
       "      <td>...</td>\n",
       "      <td>0.796750</td>\n",
       "      <td>9.036205e-04</td>\n",
       "      <td>0.623636</td>\n",
       "      <td>0.600443</td>\n",
       "      <td>0.840115</td>\n",
       "      <td>0.276944</td>\n",
       "      <td>0.026791</td>\n",
       "      <td>0.565158</td>\n",
       "      <td>1.0</td>\n",
       "      <td>0.024477</td>\n",
       "    </tr>\n",
       "    <tr>\n",
       "      <th>50%</th>\n",
       "      <td>0.000000</td>\n",
       "      <td>0.502706</td>\n",
       "      <td>0.559802</td>\n",
       "      <td>0.552278</td>\n",
       "      <td>0.605997</td>\n",
       "      <td>0.605976</td>\n",
       "      <td>0.999022</td>\n",
       "      <td>0.797464</td>\n",
       "      <td>0.809375</td>\n",
       "      <td>0.303525</td>\n",
       "      <td>...</td>\n",
       "      <td>0.810619</td>\n",
       "      <td>2.085213e-03</td>\n",
       "      <td>0.623879</td>\n",
       "      <td>0.605998</td>\n",
       "      <td>0.841179</td>\n",
       "      <td>0.278778</td>\n",
       "      <td>0.026808</td>\n",
       "      <td>0.565252</td>\n",
       "      <td>1.0</td>\n",
       "      <td>0.033798</td>\n",
       "    </tr>\n",
       "    <tr>\n",
       "      <th>75%</th>\n",
       "      <td>0.000000</td>\n",
       "      <td>0.535563</td>\n",
       "      <td>0.589157</td>\n",
       "      <td>0.584105</td>\n",
       "      <td>0.613914</td>\n",
       "      <td>0.613842</td>\n",
       "      <td>0.999095</td>\n",
       "      <td>0.797579</td>\n",
       "      <td>0.809469</td>\n",
       "      <td>0.303585</td>\n",
       "      <td>...</td>\n",
       "      <td>0.826455</td>\n",
       "      <td>5.269777e-03</td>\n",
       "      <td>0.624168</td>\n",
       "      <td>0.613913</td>\n",
       "      <td>0.842357</td>\n",
       "      <td>0.281449</td>\n",
       "      <td>0.026913</td>\n",
       "      <td>0.565725</td>\n",
       "      <td>1.0</td>\n",
       "      <td>0.052838</td>\n",
       "    </tr>\n",
       "    <tr>\n",
       "      <th>max</th>\n",
       "      <td>1.000000</td>\n",
       "      <td>1.000000</td>\n",
       "      <td>1.000000</td>\n",
       "      <td>1.000000</td>\n",
       "      <td>1.000000</td>\n",
       "      <td>1.000000</td>\n",
       "      <td>1.000000</td>\n",
       "      <td>1.000000</td>\n",
       "      <td>1.000000</td>\n",
       "      <td>1.000000</td>\n",
       "      <td>...</td>\n",
       "      <td>1.000000</td>\n",
       "      <td>9.820000e+09</td>\n",
       "      <td>1.000000</td>\n",
       "      <td>1.000000</td>\n",
       "      <td>1.000000</td>\n",
       "      <td>1.000000</td>\n",
       "      <td>1.000000</td>\n",
       "      <td>1.000000</td>\n",
       "      <td>1.0</td>\n",
       "      <td>1.000000</td>\n",
       "    </tr>\n",
       "  </tbody>\n",
       "</table>\n",
       "<p>8 rows × 96 columns</p>\n",
       "</div>"
      ],
      "text/plain": [
       "          Bankrupt   ROA(C) before interest and depreciation before interest  \\\n",
       "count  6819.000000                                        6819.000000          \n",
       "mean      0.032263                                           0.505180          \n",
       "std       0.176710                                           0.060686          \n",
       "min       0.000000                                           0.000000          \n",
       "25%       0.000000                                           0.476527          \n",
       "50%       0.000000                                           0.502706          \n",
       "75%       0.000000                                           0.535563          \n",
       "max       1.000000                                           1.000000          \n",
       "\n",
       "        ROA(A) before interest and % after tax  \\\n",
       "count                              6819.000000   \n",
       "mean                                  0.558625   \n",
       "std                                   0.065620   \n",
       "min                                   0.000000   \n",
       "25%                                   0.535543   \n",
       "50%                                   0.559802   \n",
       "75%                                   0.589157   \n",
       "max                                   1.000000   \n",
       "\n",
       "        ROA(B) before interest and depreciation after tax  \\\n",
       "count                                        6819.000000    \n",
       "mean                                            0.553589    \n",
       "std                                             0.061595    \n",
       "min                                             0.000000    \n",
       "25%                                             0.527277    \n",
       "50%                                             0.552278    \n",
       "75%                                             0.584105    \n",
       "max                                             1.000000    \n",
       "\n",
       "        Operating Gross Margin   Realized Sales Gross Margin  \\\n",
       "count              6819.000000                   6819.000000   \n",
       "mean                  0.607948                      0.607929   \n",
       "std                   0.016934                      0.016916   \n",
       "min                   0.000000                      0.000000   \n",
       "25%                   0.600445                      0.600434   \n",
       "50%                   0.605997                      0.605976   \n",
       "75%                   0.613914                      0.613842   \n",
       "max                   1.000000                      1.000000   \n",
       "\n",
       "        Operating Profit Rate   Pre-tax net Interest Rate  \\\n",
       "count             6819.000000                 6819.000000   \n",
       "mean                 0.998755                    0.797190   \n",
       "std                  0.013010                    0.012869   \n",
       "min                  0.000000                    0.000000   \n",
       "25%                  0.998969                    0.797386   \n",
       "50%                  0.999022                    0.797464   \n",
       "75%                  0.999095                    0.797579   \n",
       "max                  1.000000                    1.000000   \n",
       "\n",
       "        After-tax net Interest Rate  \\\n",
       "count                   6819.000000   \n",
       "mean                       0.809084   \n",
       "std                        0.013601   \n",
       "min                        0.000000   \n",
       "25%                        0.809312   \n",
       "50%                        0.809375   \n",
       "75%                        0.809469   \n",
       "max                        1.000000   \n",
       "\n",
       "        Non-industry income and expenditure/revenue  ...  \\\n",
       "count                                   6819.000000  ...   \n",
       "mean                                       0.303623  ...   \n",
       "std                                        0.011163  ...   \n",
       "min                                        0.000000  ...   \n",
       "25%                                        0.303466  ...   \n",
       "50%                                        0.303525  ...   \n",
       "75%                                        0.303585  ...   \n",
       "max                                        1.000000  ...   \n",
       "\n",
       "        Net Income to Total Assets   Total assets to GNP price  \\\n",
       "count                  6819.000000                6.819000e+03   \n",
       "mean                      0.807760                1.862942e+07   \n",
       "std                       0.040332                3.764501e+08   \n",
       "min                       0.000000                0.000000e+00   \n",
       "25%                       0.796750                9.036205e-04   \n",
       "50%                       0.810619                2.085213e-03   \n",
       "75%                       0.826455                5.269777e-03   \n",
       "max                       1.000000                9.820000e+09   \n",
       "\n",
       "        No-credit Interval   Gross Profit to Sales  \\\n",
       "count          6819.000000             6819.000000   \n",
       "mean              0.623915                0.607946   \n",
       "std               0.012290                0.016934   \n",
       "min               0.000000                0.000000   \n",
       "25%               0.623636                0.600443   \n",
       "50%               0.623879                0.605998   \n",
       "75%               0.624168                0.613913   \n",
       "max               1.000000                1.000000   \n",
       "\n",
       "        Net Income to Stockholder's Equity   Liability to Equity  \\\n",
       "count                          6819.000000           6819.000000   \n",
       "mean                              0.840402              0.280365   \n",
       "std                               0.014523              0.014463   \n",
       "min                               0.000000              0.000000   \n",
       "25%                               0.840115              0.276944   \n",
       "50%                               0.841179              0.278778   \n",
       "75%                               0.842357              0.281449   \n",
       "max                               1.000000              1.000000   \n",
       "\n",
       "        Degree of Financial Leverage (DFL)  \\\n",
       "count                          6819.000000   \n",
       "mean                              0.027541   \n",
       "std                               0.015668   \n",
       "min                               0.000000   \n",
       "25%                               0.026791   \n",
       "50%                               0.026808   \n",
       "75%                               0.026913   \n",
       "max                               1.000000   \n",
       "\n",
       "        Interest Coverage Ratio (Interest expense to EBIT)   Net Income Flag  \\\n",
       "count                                        6819.000000              6819.0   \n",
       "mean                                            0.565358                 1.0   \n",
       "std                                             0.013214                 0.0   \n",
       "min                                             0.000000                 1.0   \n",
       "25%                                             0.565158                 1.0   \n",
       "50%                                             0.565252                 1.0   \n",
       "75%                                             0.565725                 1.0   \n",
       "max                                             1.000000                 1.0   \n",
       "\n",
       "        Equity to Liability  \n",
       "count           6819.000000  \n",
       "mean               0.047578  \n",
       "std                0.050014  \n",
       "min                0.000000  \n",
       "25%                0.024477  \n",
       "50%                0.033798  \n",
       "75%                0.052838  \n",
       "max                1.000000  \n",
       "\n",
       "[8 rows x 96 columns]"
      ]
     },
     "execution_count": 4,
     "metadata": {},
     "output_type": "execute_result"
    }
   ],
   "source": [
    "df.describe()\n",
    "#This gives me the summary statistics of the data set."
   ]
  },
  {
   "cell_type": "code",
   "execution_count": 5,
   "id": "17334bfe",
   "metadata": {},
   "outputs": [
    {
     "name": "stdout",
     "output_type": "stream",
     "text": [
      "<class 'pandas.core.frame.DataFrame'>\n",
      "RangeIndex: 6819 entries, 0 to 6818\n",
      "Data columns (total 96 columns):\n",
      " #   Column                                                    Non-Null Count  Dtype  \n",
      "---  ------                                                    --------------  -----  \n",
      " 0   Bankrupt                                                  6819 non-null   int64  \n",
      " 1    ROA(C) before interest and depreciation before interest  6819 non-null   float64\n",
      " 2    ROA(A) before interest and % after tax                   6819 non-null   float64\n",
      " 3    ROA(B) before interest and depreciation after tax        6819 non-null   float64\n",
      " 4    Operating Gross Margin                                   6819 non-null   float64\n",
      " 5    Realized Sales Gross Margin                              6819 non-null   float64\n",
      " 6    Operating Profit Rate                                    6819 non-null   float64\n",
      " 7    Pre-tax net Interest Rate                                6819 non-null   float64\n",
      " 8    After-tax net Interest Rate                              6819 non-null   float64\n",
      " 9    Non-industry income and expenditure/revenue              6819 non-null   float64\n",
      " 10   Continuous interest rate (after tax)                     6819 non-null   float64\n",
      " 11   Operating Expense Rate                                   6819 non-null   float64\n",
      " 12   Research and development expense rate                    6819 non-null   float64\n",
      " 13   Cash flow rate                                           6819 non-null   float64\n",
      " 14   Interest-bearing debt interest rate                      6819 non-null   float64\n",
      " 15   Tax rate (A)                                             6819 non-null   float64\n",
      " 16   Net Value Per Share (B)                                  6819 non-null   float64\n",
      " 17   Net Value Per Share (A)                                  6819 non-null   float64\n",
      " 18   Net Value Per Share (C)                                  6819 non-null   float64\n",
      " 19   Persistent EPS in the Last Four Seasons                  6819 non-null   float64\n",
      " 20   Cash Flow Per Share                                      6819 non-null   float64\n",
      " 21   Revenue Per Share (Yuan ¥)                               6819 non-null   float64\n",
      " 22   Operating Profit Per Share (Yuan ¥)                      6819 non-null   float64\n",
      " 23   Per Share Net profit before tax (Yuan ¥)                 6819 non-null   float64\n",
      " 24   Realized Sales Gross Profit Growth Rate                  6819 non-null   float64\n",
      " 25   Operating Profit Growth Rate                             6819 non-null   float64\n",
      " 26   After-tax Net Profit Growth Rate                         6819 non-null   float64\n",
      " 27   Regular Net Profit Growth Rate                           6819 non-null   float64\n",
      " 28   Continuous Net Profit Growth Rate                        6819 non-null   float64\n",
      " 29   Total Asset Growth Rate                                  6819 non-null   float64\n",
      " 30   Net Value Growth Rate                                    6819 non-null   float64\n",
      " 31   Total Asset Return Growth Rate Ratio                     6819 non-null   float64\n",
      " 32   Cash Reinvestment %                                      6819 non-null   float64\n",
      " 33   Current Ratio                                            6819 non-null   float64\n",
      " 34   Quick Ratio                                              6819 non-null   float64\n",
      " 35   Interest Expense Ratio                                   6819 non-null   float64\n",
      " 36   Total debt/Total net worth                               6819 non-null   float64\n",
      " 37   Debt ratio %                                             6819 non-null   float64\n",
      " 38   Net worth/Assets                                         6819 non-null   float64\n",
      " 39   Long-term fund suitability ratio (A)                     6819 non-null   float64\n",
      " 40   Borrowing dependency                                     6819 non-null   float64\n",
      " 41   Contingent liabilities/Net worth                         6819 non-null   float64\n",
      " 42   Operating profit/Paid-in capital                         6819 non-null   float64\n",
      " 43   Net profit before tax/Paid-in capital                    6819 non-null   float64\n",
      " 44   Inventory and accounts receivable/Net value              6819 non-null   float64\n",
      " 45   Total Asset Turnover                                     6819 non-null   float64\n",
      " 46   Accounts Receivable Turnover                             6819 non-null   float64\n",
      " 47   Average Collection Days                                  6819 non-null   float64\n",
      " 48   Inventory Turnover Rate (times)                          6819 non-null   float64\n",
      " 49   Fixed Assets Turnover Frequency                          6819 non-null   float64\n",
      " 50   Net Worth Turnover Rate (times)                          6819 non-null   float64\n",
      " 51   Revenue per person                                       6819 non-null   float64\n",
      " 52   Operating profit per person                              6819 non-null   float64\n",
      " 53   Allocation rate per person                               6819 non-null   float64\n",
      " 54   Working Capital to Total Assets                          6819 non-null   float64\n",
      " 55   Quick Assets/Total Assets                                6819 non-null   float64\n",
      " 56   Current Assets/Total Assets                              6819 non-null   float64\n",
      " 57   Cash/Total Assets                                        6819 non-null   float64\n",
      " 58   Quick Assets/Current Liability                           6819 non-null   float64\n",
      " 59   Cash/Current Liability                                   6819 non-null   float64\n",
      " 60   Current Liability to Assets                              6819 non-null   float64\n",
      " 61   Operating Funds to Liability                             6819 non-null   float64\n",
      " 62   Inventory/Working Capital                                6819 non-null   float64\n",
      " 63   Inventory/Current Liability                              6819 non-null   float64\n",
      " 64   Current Liabilities/Liability                            6819 non-null   float64\n",
      " 65   Working Capital/Equity                                   6819 non-null   float64\n",
      " 66   Current Liabilities/Equity                               6819 non-null   float64\n",
      " 67   Long-term Liability to Current Assets                    6819 non-null   float64\n",
      " 68   Retained Earnings to Total Assets                        6819 non-null   float64\n",
      " 69   Total income/Total expense                               6819 non-null   float64\n",
      " 70   Total expense/Assets                                     6819 non-null   float64\n",
      " 71   Current Asset Turnover Rate                              6819 non-null   float64\n",
      " 72   Quick Asset Turnover Rate                                6819 non-null   float64\n",
      " 73   Working capitcal Turnover Rate                           6819 non-null   float64\n",
      " 74   Cash Turnover Rate                                       6819 non-null   float64\n",
      " 75   Cash Flow to Sales                                       6819 non-null   float64\n",
      " 76   Fixed Assets to Assets                                   6819 non-null   float64\n",
      " 77   Current Liability to Liability                           6819 non-null   float64\n",
      " 78   Current Liability to Equity                              6819 non-null   float64\n",
      " 79   Equity to Long-term Liability                            6819 non-null   float64\n",
      " 80   Cash Flow to Total Assets                                6819 non-null   float64\n",
      " 81   Cash Flow to Liability                                   6819 non-null   float64\n",
      " 82   CFO to Assets                                            6819 non-null   float64\n",
      " 83   Cash Flow to Equity                                      6819 non-null   float64\n",
      " 84   Current Liability to Current Assets                      6819 non-null   float64\n",
      " 85   Liability-Assets Flag                                    6819 non-null   int64  \n",
      " 86   Net Income to Total Assets                               6819 non-null   float64\n",
      " 87   Total assets to GNP price                                6819 non-null   float64\n",
      " 88   No-credit Interval                                       6819 non-null   float64\n",
      " 89   Gross Profit to Sales                                    6819 non-null   float64\n",
      " 90   Net Income to Stockholder's Equity                       6819 non-null   float64\n",
      " 91   Liability to Equity                                      6819 non-null   float64\n",
      " 92   Degree of Financial Leverage (DFL)                       6819 non-null   float64\n",
      " 93   Interest Coverage Ratio (Interest expense to EBIT)       6819 non-null   float64\n",
      " 94   Net Income Flag                                          6819 non-null   int64  \n",
      " 95   Equity to Liability                                      6819 non-null   float64\n",
      "dtypes: float64(93), int64(3)\n",
      "memory usage: 5.0 MB\n"
     ]
    }
   ],
   "source": [
    "df.info()\n",
    "#More info"
   ]
  },
  {
   "cell_type": "code",
   "execution_count": 6,
   "id": "39fa26b8",
   "metadata": {},
   "outputs": [
    {
     "data": {
      "text/plain": [
       "count    6.819000e+03\n",
       "mean     4.032850e+05\n",
       "std      3.330216e+07\n",
       "min      0.000000e+00\n",
       "25%      7.555047e-03\n",
       "50%      1.058717e-02\n",
       "75%      1.626953e-02\n",
       "max      2.750000e+09\n",
       "Name:  Current Ratio, dtype: float64"
      ]
     },
     "execution_count": 6,
     "metadata": {},
     "output_type": "execute_result"
    }
   ],
   "source": [
    "df[' Current Ratio'].describe()\n",
    "#summary statistics for Current Ratio"
   ]
  },
  {
   "cell_type": "code",
   "execution_count": 7,
   "id": "f7bb0845",
   "metadata": {},
   "outputs": [
    {
     "data": {
      "image/png": "[encoded data removed]",
      "text/plain": [
       "<Figure size 640x480 with 1 Axes>"
      ]
     },
     "metadata": {},
     "output_type": "display_data"
    }
   ],
   "source": [
    "plt.hist(df[' Current Ratio'], bins=50, color='blue')\n",
    "plt.show()\n",
    "#Getting the distribution. We can see the majority of current ratio fall betwen 0 and 0.1, while there is high outlier"
   ]
  },
  {
   "cell_type": "code",
   "execution_count": 8,
   "id": "fa876993",
   "metadata": {},
   "outputs": [
    {
     "data": {
      "text/plain": [
       "count    6819.000000\n",
       "mean        0.331410\n",
       "std         0.013488\n",
       "min         0.000000\n",
       "25%         0.328096\n",
       "50%         0.329685\n",
       "75%         0.332322\n",
       "max         1.000000\n",
       "Name:  Current Liability to Equity, dtype: float64"
      ]
     },
     "execution_count": 8,
     "metadata": {},
     "output_type": "execute_result"
    }
   ],
   "source": [
    "df[' Current Liability to Equity'].describe()\n",
    "#summary statistics for Current Liability to Equity"
   ]
  },
  {
   "cell_type": "code",
   "execution_count": 9,
   "id": "348aced4",
   "metadata": {},
   "outputs": [
    {
     "data": {
      "image/png": "[encoded data removed]",
      "text/plain": [
       "<Figure size 640x480 with 1 Axes>"
      ]
     },
     "metadata": {},
     "output_type": "display_data"
    }
   ],
   "source": [
    "sns.histplot(df[' Current Liability to Equity'], kde=True)\n",
    "plt.show()\n",
    "#we see the majority fall betwen 0.3 and 0.35."
   ]
  },
  {
   "cell_type": "code",
   "execution_count": 10,
   "id": "80be3b57",
   "metadata": {},
   "outputs": [
    {
     "data": {
      "text/plain": [
       "count    6819.000000\n",
       "mean        0.400132\n",
       "std         0.201998\n",
       "min         0.000000\n",
       "25%         0.241973\n",
       "50%         0.386451\n",
       "75%         0.540594\n",
       "max         1.000000\n",
       "Name:  Quick Assets/Total Assets, dtype: float64"
      ]
     },
     "execution_count": 10,
     "metadata": {},
     "output_type": "execute_result"
    }
   ],
   "source": [
    "df[' Quick Assets/Total Assets'].describe()\n",
    "#summary statistics for Quick Assets/Total Assets"
   ]
  },
  {
   "cell_type": "code",
   "execution_count": 11,
   "id": "a674489f",
   "metadata": {},
   "outputs": [
    {
     "data": {
      "image/png": "[encoded data removed]",
      "text/plain": [
       "<Figure size 640x480 with 1 Axes>"
      ]
     },
     "metadata": {},
     "output_type": "display_data"
    }
   ],
   "source": [
    "sns.histplot(df[' Quick Assets/Total Assets'], kde=True)\n",
    "plt.show()\n",
    "#Can see that this is more normally distributed, slightly skewed to the right"
   ]
  },
  {
   "cell_type": "code",
   "execution_count": 12,
   "id": "8a04d2d6",
   "metadata": {},
   "outputs": [
    {
     "data": {
      "text/plain": [
       "count    6819.000000\n",
       "mean        0.565358\n",
       "std         0.013214\n",
       "min         0.000000\n",
       "25%         0.565158\n",
       "50%         0.565252\n",
       "75%         0.565725\n",
       "max         1.000000\n",
       "Name:  Interest Coverage Ratio (Interest expense to EBIT), dtype: float64"
      ]
     },
     "execution_count": 12,
     "metadata": {},
     "output_type": "execute_result"
    }
   ],
   "source": [
    "df[' Interest Coverage Ratio (Interest expense to EBIT)'].describe()\n",
    "#summary statistics for Interest Coverage Ratio (Interest expense to EBIT)"
   ]
  },
  {
   "cell_type": "code",
   "execution_count": 13,
   "id": "8e625271",
   "metadata": {},
   "outputs": [
    {
     "data": {
      "image/png": "[encoded data removed]",
      "text/plain": [
       "<Figure size 640x480 with 1 Axes>"
      ]
     },
     "metadata": {},
     "output_type": "display_data"
    }
   ],
   "source": [
    "sns.histplot(df[' Interest Coverage Ratio (Interest expense to EBIT)'], kde=True)\n",
    "plt.show()\n",
    "#We see the majority falls around 0.56 with low and high outliers"
   ]
  },
  {
   "cell_type": "code",
   "execution_count": 14,
   "id": "0bf8c3ab",
   "metadata": {},
   "outputs": [
    {
     "data": {
      "text/plain": [
       "count    6819.000000\n",
       "mean        0.029184\n",
       "std         0.027149\n",
       "min         0.000000\n",
       "25%         0.014567\n",
       "50%         0.022674\n",
       "75%         0.035930\n",
       "max         1.000000\n",
       "Name:  Total expense/Assets, dtype: float64"
      ]
     },
     "execution_count": 14,
     "metadata": {},
     "output_type": "execute_result"
    }
   ],
   "source": [
    "df[' Total expense/Assets'].describe()\n",
    "#summary statistics for Total expense/Assets"
   ]
  },
  {
   "cell_type": "code",
   "execution_count": 15,
   "id": "680af539",
   "metadata": {},
   "outputs": [
    {
     "data": {
      "image/png": "[encoded data removed]",
      "text/plain": [
       "<Figure size 640x480 with 1 Axes>"
      ]
     },
     "metadata": {},
     "output_type": "display_data"
    }
   ],
   "source": [
    "sns.histplot(df[' Total expense/Assets'], kde=True)\n",
    "plt.show()\n",
    "#We see it is skewed to the right "
   ]
  },
  {
   "cell_type": "code",
   "execution_count": 16,
   "id": "031f82ed",
   "metadata": {},
   "outputs": [
    {
     "data": {
      "text/plain": [
       "count    6819.000000\n",
       "mean        0.264248\n",
       "std         0.009634\n",
       "min         0.000000\n",
       "25%         0.263759\n",
       "50%         0.264050\n",
       "75%         0.264388\n",
       "max         1.000000\n",
       "Name:  Total Asset Return Growth Rate Ratio, dtype: float64"
      ]
     },
     "execution_count": 16,
     "metadata": {},
     "output_type": "execute_result"
    }
   ],
   "source": [
    "df[' Total Asset Return Growth Rate Ratio'].describe()\n",
    "#summary statistics for Total Asset Return Growth Rate Ratio"
   ]
  },
  {
   "cell_type": "code",
   "execution_count": 17,
   "id": "65e22e4b",
   "metadata": {
    "scrolled": true
   },
   "outputs": [
    {
     "data": {
      "image/png": "[encoded data removed]",
      "text/plain": [
       "<Figure size 640x480 with 1 Axes>"
      ]
     },
     "metadata": {},
     "output_type": "display_data"
    }
   ],
   "source": [
    "sns.histplot(df[' Total Asset Return Growth Rate Ratio'], kde=True)\n",
    "plt.show()\n",
    "#majority falls around 0.26 with low and high outliers"
   ]
  },
  {
   "cell_type": "code",
   "execution_count": 17,
   "id": "57f46c8c",
   "metadata": {},
   "outputs": [
    {
     "name": "stdout",
     "output_type": "stream",
     "text": [
      "                                                    Bankrupt  \\\n",
      "Bankrupt                                            1.000000   \n",
      " ROA(C) before interest and depreciation before... -0.260807   \n",
      " ROA(A) before interest and % after tax            -0.282941   \n",
      " ROA(B) before interest and depreciation after tax -0.273051   \n",
      " Operating Gross Margin                            -0.100043   \n",
      "...                                                      ...   \n",
      " Liability to Equity                                0.166812   \n",
      " Degree of Financial Leverage (DFL)                 0.010508   \n",
      " Interest Coverage Ratio (Interest expense to E... -0.005509   \n",
      " Net Income Flag                                         NaN   \n",
      " Equity to Liability                               -0.083048   \n",
      "\n",
      "                                                     ROA(C) before interest and depreciation before interest  \\\n",
      "Bankrupt                                                                                    -0.260807          \n",
      " ROA(C) before interest and depreciation before...                                           1.000000          \n",
      " ROA(A) before interest and % after tax                                                      0.940124          \n",
      " ROA(B) before interest and depreciation after tax                                           0.986849          \n",
      " Operating Gross Margin                                                                      0.334719          \n",
      "...                                                                                               ...          \n",
      " Liability to Equity                                                                        -0.143629          \n",
      " Degree of Financial Leverage (DFL)                                                         -0.016575          \n",
      " Interest Coverage Ratio (Interest expense to E...                                           0.010573          \n",
      " Net Income Flag                                                                                  NaN          \n",
      " Equity to Liability                                                                         0.052416          \n",
      "\n",
      "                                                     ROA(A) before interest and % after tax  \\\n",
      "Bankrupt                                                                          -0.282941   \n",
      " ROA(C) before interest and depreciation before...                                 0.940124   \n",
      " ROA(A) before interest and % after tax                                            1.000000   \n",
      " ROA(B) before interest and depreciation after tax                                 0.955741   \n",
      " Operating Gross Margin                                                            0.326969   \n",
      "...                                                                                     ...   \n",
      " Liability to Equity                                                              -0.141039   \n",
      " Degree of Financial Leverage (DFL)                                               -0.011515   \n",
      " Interest Coverage Ratio (Interest expense to E...                                 0.013372   \n",
      " Net Income Flag                                                                        NaN   \n",
      " Equity to Liability                                                               0.057887   \n",
      "\n",
      "                                                     ROA(B) before interest and depreciation after tax  \\\n",
      "Bankrupt                                                                                    -0.273051    \n",
      " ROA(C) before interest and depreciation before...                                           0.986849    \n",
      " ROA(A) before interest and % after tax                                                      0.955741    \n",
      " ROA(B) before interest and depreciation after tax                                           1.000000    \n",
      " Operating Gross Margin                                                                      0.333749    \n",
      "...                                                                                               ...    \n",
      " Liability to Equity                                                                        -0.142838    \n",
      " Degree of Financial Leverage (DFL)                                                         -0.014663    \n",
      " Interest Coverage Ratio (Interest expense to E...                                           0.011473    \n",
      " Net Income Flag                                                                                  NaN    \n",
      " Equity to Liability                                                                         0.056430    \n",
      "\n",
      "                                                     Operating Gross Margin  \\\n",
      "Bankrupt                                                          -0.100043   \n",
      " ROA(C) before interest and depreciation before...                 0.334719   \n",
      " ROA(A) before interest and % after tax                            0.326969   \n",
      " ROA(B) before interest and depreciation after tax                 0.333749   \n",
      " Operating Gross Margin                                            1.000000   \n",
      "...                                                                     ...   \n",
      " Liability to Equity                                              -0.085434   \n",
      " Degree of Financial Leverage (DFL)                               -0.011806   \n",
      " Interest Coverage Ratio (Interest expense to E...                -0.001167   \n",
      " Net Income Flag                                                        NaN   \n",
      " Equity to Liability                                               0.120029   \n",
      "\n",
      "                                                     Realized Sales Gross Margin  \\\n",
      "Bankrupt                                                               -0.099445   \n",
      " ROA(C) before interest and depreciation before...                      0.332755   \n",
      " ROA(A) before interest and % after tax                                 0.324956   \n",
      " ROA(B) before interest and depreciation after tax                      0.331755   \n",
      " Operating Gross Margin                                                 0.999518   \n",
      "...                                                                          ...   \n",
      " Liability to Equity                                                   -0.085407   \n",
      " Degree of Financial Leverage (DFL)                                    -0.011268   \n",
      " Interest Coverage Ratio (Interest expense to E...                     -0.001158   \n",
      " Net Income Flag                                                             NaN   \n",
      " Equity to Liability                                                    0.120196   \n",
      "\n",
      "                                                     Operating Profit Rate  \\\n",
      "Bankrupt                                                         -0.000230   \n",
      " ROA(C) before interest and depreciation before...                0.035725   \n",
      " ROA(A) before interest and % after tax                           0.032053   \n",
      " ROA(B) before interest and depreciation after tax                0.035212   \n",
      " Operating Gross Margin                                           0.005745   \n",
      "...                                                                    ...   \n",
      " Liability to Equity                                              0.001541   \n",
      " Degree of Financial Leverage (DFL)                               0.000935   \n",
      " Interest Coverage Ratio (Interest expense to E...                0.000393   \n",
      " Net Income Flag                                                       NaN   \n",
      " Equity to Liability                                             -0.017071   \n",
      "\n",
      "                                                     Pre-tax net Interest Rate  \\\n",
      "Bankrupt                                                             -0.008517   \n",
      " ROA(C) before interest and depreciation before...                    0.053419   \n",
      " ROA(A) before interest and % after tax                               0.053518   \n",
      " ROA(B) before interest and depreciation after tax                    0.053726   \n",
      " Operating Gross Margin                                               0.032493   \n",
      "...                                                                        ...   \n",
      " Liability to Equity                                                 -0.004043   \n",
      " Degree of Financial Leverage (DFL)                                   0.000855   \n",
      " Interest Coverage Ratio (Interest expense to E...                    0.000984   \n",
      " Net Income Flag                                                           NaN   \n",
      " Equity to Liability                                                 -0.014559   \n",
      "\n",
      "                                                     After-tax net Interest Rate  \\\n",
      "Bankrupt                                                               -0.008857   \n",
      " ROA(C) before interest and depreciation before...                      0.049222   \n",
      " ROA(A) before interest and % after tax                                 0.049474   \n",
      " ROA(B) before interest and depreciation after tax                      0.049952   \n",
      " Operating Gross Margin                                                 0.027175   \n",
      "...                                                                          ...   \n",
      " Liability to Equity                                                   -0.004390   \n",
      " Degree of Financial Leverage (DFL)                                     0.000927   \n",
      " Interest Coverage Ratio (Interest expense to E...                      0.000957   \n",
      " Net Income Flag                                                             NaN   \n",
      " Equity to Liability                                                   -0.010900   \n",
      "\n",
      "                                                     Non-industry income and expenditure/revenue  \\\n",
      "Bankrupt                                                                               -0.016593   \n",
      " ROA(C) before interest and depreciation before...                                      0.020501   \n",
      " ROA(A) before interest and % after tax                                                 0.029649   \n",
      " ROA(B) before interest and depreciation after tax                                      0.022366   \n",
      " Operating Gross Margin                                                                 0.051438   \n",
      "...                                                                                          ...   \n",
      " Liability to Equity                                                                   -0.011899   \n",
      " Degree of Financial Leverage (DFL)                                                    -0.000556   \n",
      " Interest Coverage Ratio (Interest expense to E...                                      0.001024   \n",
      " Net Income Flag                                                                             NaN   \n",
      " Equity to Liability                                                                    0.012293   \n",
      "\n",
      "                                                    ...  \\\n",
      "Bankrupt                                            ...   \n",
      " ROA(C) before interest and depreciation before...  ...   \n",
      " ROA(A) before interest and % after tax             ...   \n",
      " ROA(B) before interest and depreciation after tax  ...   \n",
      " Operating Gross Margin                             ...   \n",
      "...                                                 ...   \n",
      " Liability to Equity                                ...   \n",
      " Degree of Financial Leverage (DFL)                 ...   \n",
      " Interest Coverage Ratio (Interest expense to E...  ...   \n",
      " Net Income Flag                                    ...   \n",
      " Equity to Liability                                ...   \n",
      "\n",
      "                                                     Net Income to Total Assets  \\\n",
      "Bankrupt                                                              -0.315457   \n",
      " ROA(C) before interest and depreciation before...                     0.887670   \n",
      " ROA(A) before interest and % after tax                                0.961552   \n",
      " ROA(B) before interest and depreciation after tax                     0.912040   \n",
      " Operating Gross Margin                                                0.300143   \n",
      "...                                                                         ...   \n",
      " Liability to Equity                                                  -0.159697   \n",
      " Degree of Financial Leverage (DFL)                                   -0.010463   \n",
      " Interest Coverage Ratio (Interest expense to E...                     0.012746   \n",
      " Net Income Flag                                                            NaN   \n",
      " Equity to Liability                                                   0.073916   \n",
      "\n",
      "                                                     Total assets to GNP price  \\\n",
      "Bankrupt                                                              0.035104   \n",
      " ROA(C) before interest and depreciation before...                   -0.071725   \n",
      " ROA(A) before interest and % after tax                              -0.098900   \n",
      " ROA(B) before interest and depreciation after tax                   -0.089088   \n",
      " Operating Gross Margin                                               0.022672   \n",
      "...                                                                        ...   \n",
      " Liability to Equity                                                  0.021982   \n",
      " Degree of Financial Leverage (DFL)                                  -0.001881   \n",
      " Interest Coverage Ratio (Interest expense to E...                    0.000239   \n",
      " Net Income Flag                                                           NaN   \n",
      " Equity to Liability                                                  0.014871   \n",
      "\n",
      "                                                     No-credit Interval  \\\n",
      "Bankrupt                                                      -0.005547   \n",
      " ROA(C) before interest and depreciation before...             0.008135   \n",
      " ROA(A) before interest and % after tax                        0.011463   \n",
      " ROA(B) before interest and depreciation after tax             0.007523   \n",
      " Operating Gross Margin                                        0.004205   \n",
      "...                                                                 ...   \n",
      " Liability to Equity                                          -0.003724   \n",
      " Degree of Financial Leverage (DFL)                           -0.008812   \n",
      " Interest Coverage Ratio (Interest expense to E...             0.001027   \n",
      " Net Income Flag                                                    NaN   \n",
      " Equity to Liability                                           0.050609   \n",
      "\n",
      "                                                     Gross Profit to Sales  \\\n",
      "Bankrupt                                                         -0.100044   \n",
      " ROA(C) before interest and depreciation before...                0.334721   \n",
      " ROA(A) before interest and % after tax                           0.326971   \n",
      " ROA(B) before interest and depreciation after tax                0.333750   \n",
      " Operating Gross Margin                                           1.000000   \n",
      "...                                                                    ...   \n",
      " Liability to Equity                                             -0.085434   \n",
      " Degree of Financial Leverage (DFL)                              -0.011806   \n",
      " Interest Coverage Ratio (Interest expense to E...               -0.001169   \n",
      " Net Income Flag                                                       NaN   \n",
      " Equity to Liability                                              0.120027   \n",
      "\n",
      "                                                     Net Income to Stockholder's Equity  \\\n",
      "Bankrupt                                                                      -0.180987   \n",
      " ROA(C) before interest and depreciation before...                             0.274287   \n",
      " ROA(A) before interest and % after tax                                        0.291744   \n",
      " ROA(B) before interest and depreciation after tax                             0.280617   \n",
      " Operating Gross Margin                                                        0.075304   \n",
      "...                                                                                 ...   \n",
      " Liability to Equity                                                          -0.791836   \n",
      " Degree of Financial Leverage (DFL)                                           -0.000093   \n",
      " Interest Coverage Ratio (Interest expense to E...                             0.005147   \n",
      " Net Income Flag                                                                    NaN   \n",
      " Equity to Liability                                                           0.029622   \n",
      "\n",
      "                                                     Liability to Equity  \\\n",
      "Bankrupt                                                        0.166812   \n",
      " ROA(C) before interest and depreciation before...             -0.143629   \n",
      " ROA(A) before interest and % after tax                        -0.141039   \n",
      " ROA(B) before interest and depreciation after tax             -0.142838   \n",
      " Operating Gross Margin                                        -0.085434   \n",
      "...                                                                  ...   \n",
      " Liability to Equity                                            1.000000   \n",
      " Degree of Financial Leverage (DFL)                             0.002119   \n",
      " Interest Coverage Ratio (Interest expense to E...              0.001487   \n",
      " Net Income Flag                                                     NaN   \n",
      " Equity to Liability                                           -0.159654   \n",
      "\n",
      "                                                     Degree of Financial Leverage (DFL)  \\\n",
      "Bankrupt                                                                       0.010508   \n",
      " ROA(C) before interest and depreciation before...                            -0.016575   \n",
      " ROA(A) before interest and % after tax                                       -0.011515   \n",
      " ROA(B) before interest and depreciation after tax                            -0.014663   \n",
      " Operating Gross Margin                                                       -0.011806   \n",
      "...                                                                                 ...   \n",
      " Liability to Equity                                                           0.002119   \n",
      " Degree of Financial Leverage (DFL)                                            1.000000   \n",
      " Interest Coverage Ratio (Interest expense to E...                             0.016513   \n",
      " Net Income Flag                                                                    NaN   \n",
      " Equity to Liability                                                          -0.016739   \n",
      "\n",
      "                                                     Interest Coverage Ratio (Interest expense to EBIT)  \\\n",
      "Bankrupt                                                                                    -0.005509     \n",
      " ROA(C) before interest and depreciation before...                                           0.010573     \n",
      " ROA(A) before interest and % after tax                                                      0.013372     \n",
      " ROA(B) before interest and depreciation after tax                                           0.011473     \n",
      " Operating Gross Margin                                                                     -0.001167     \n",
      "...                                                                                               ...     \n",
      " Liability to Equity                                                                         0.001487     \n",
      " Degree of Financial Leverage (DFL)                                                          0.016513     \n",
      " Interest Coverage Ratio (Interest expense to E...                                           1.000000     \n",
      " Net Income Flag                                                                                  NaN     \n",
      " Equity to Liability                                                                        -0.008339     \n",
      "\n",
      "                                                     Net Income Flag  \\\n",
      "Bankrupt                                                         NaN   \n",
      " ROA(C) before interest and depreciation before...               NaN   \n",
      " ROA(A) before interest and % after tax                          NaN   \n",
      " ROA(B) before interest and depreciation after tax               NaN   \n",
      " Operating Gross Margin                                          NaN   \n",
      "...                                                              ...   \n",
      " Liability to Equity                                             NaN   \n",
      " Degree of Financial Leverage (DFL)                              NaN   \n",
      " Interest Coverage Ratio (Interest expense to E...               NaN   \n",
      " Net Income Flag                                                 NaN   \n",
      " Equity to Liability                                             NaN   \n",
      "\n",
      "                                                     Equity to Liability  \n",
      "Bankrupt                                                       -0.083048  \n",
      " ROA(C) before interest and depreciation before...              0.052416  \n",
      " ROA(A) before interest and % after tax                         0.057887  \n",
      " ROA(B) before interest and depreciation after tax              0.056430  \n",
      " Operating Gross Margin                                         0.120029  \n",
      "...                                                                  ...  \n",
      " Liability to Equity                                           -0.159654  \n",
      " Degree of Financial Leverage (DFL)                            -0.016739  \n",
      " Interest Coverage Ratio (Interest expense to E...             -0.008339  \n",
      " Net Income Flag                                                     NaN  \n",
      " Equity to Liability                                            1.000000  \n",
      "\n",
      "[96 rows x 96 columns]\n"
     ]
    }
   ],
   "source": [
    "correlation_matrix = df.corr()\n",
    "\n",
    "print(correlation_matrix)"
   ]
  },
  {
   "cell_type": "code",
   "execution_count": 18,
   "id": "f5375dd7",
   "metadata": {},
   "outputs": [],
   "source": [
    "#This gives the correlation between all the variables."
   ]
  },
  {
   "cell_type": "code",
   "execution_count": 19,
   "id": "deffcd31",
   "metadata": {},
   "outputs": [
    {
     "data": {
      "image/png": "[encoded data removed]",
      "text/plain": [
       "<Figure size 640x480 with 1 Axes>"
      ]
     },
     "metadata": {},
     "output_type": "display_data"
    }
   ],
   "source": [
    "sns.countplot(x=df['Bankrupt'], data=df)\n",
    "plt.show()\n",
    "#We see that the classes are imbalanced"
   ]
  },
  {
   "cell_type": "code",
   "execution_count": 21,
   "id": "a27126ff",
   "metadata": {},
   "outputs": [],
   "source": [
    "majority = df[df['Bankrupt'] == 0]\n",
    "minority = df[df['Bankrupt'] == 1]\n",
    "#Seperating the majority and minority classes"
   ]
  },
  {
   "cell_type": "code",
   "execution_count": 22,
   "id": "9a19c89c",
   "metadata": {},
   "outputs": [],
   "source": [
    "undersampled_majority = resample(majority, replace=False, n_samples=len(minority))   \n",
    "\n",
    "undersampled_data = pd.concat([minority, undersampled_majority])\n",
    "#Creating an undersampled data set "
   ]
  },
  {
   "cell_type": "code",
   "execution_count": 23,
   "id": "68c7db19",
   "metadata": {},
   "outputs": [
    {
     "data": {
      "text/html": [
       "<div>\n",
       "<style scoped>\n",
       "    .dataframe tbody tr th:only-of-type {\n",
       "        vertical-align: middle;\n",
       "    }\n",
       "\n",
       "    .dataframe tbody tr th {\n",
       "        vertical-align: top;\n",
       "    }\n",
       "\n",
       "    .dataframe thead th {\n",
       "        text-align: right;\n",
       "    }\n",
       "</style>\n",
       "<table border=\"1\" class=\"dataframe\">\n",
       "  <thead>\n",
       "    <tr style=\"text-align: right;\">\n",
       "      <th></th>\n",
       "      <th>Bankrupt</th>\n",
       "      <th>ROA(C) before interest and depreciation before interest</th>\n",
       "      <th>ROA(A) before interest and % after tax</th>\n",
       "      <th>ROA(B) before interest and depreciation after tax</th>\n",
       "      <th>Operating Gross Margin</th>\n",
       "      <th>Realized Sales Gross Margin</th>\n",
       "      <th>Operating Profit Rate</th>\n",
       "      <th>Pre-tax net Interest Rate</th>\n",
       "      <th>After-tax net Interest Rate</th>\n",
       "      <th>Non-industry income and expenditure/revenue</th>\n",
       "      <th>...</th>\n",
       "      <th>Net Income to Total Assets</th>\n",
       "      <th>Total assets to GNP price</th>\n",
       "      <th>No-credit Interval</th>\n",
       "      <th>Gross Profit to Sales</th>\n",
       "      <th>Net Income to Stockholder's Equity</th>\n",
       "      <th>Liability to Equity</th>\n",
       "      <th>Degree of Financial Leverage (DFL)</th>\n",
       "      <th>Interest Coverage Ratio (Interest expense to EBIT)</th>\n",
       "      <th>Net Income Flag</th>\n",
       "      <th>Equity to Liability</th>\n",
       "    </tr>\n",
       "  </thead>\n",
       "  <tbody>\n",
       "    <tr>\n",
       "      <th>count</th>\n",
       "      <td>440.000000</td>\n",
       "      <td>440.000000</td>\n",
       "      <td>440.000000</td>\n",
       "      <td>440.000000</td>\n",
       "      <td>440.000000</td>\n",
       "      <td>440.000000</td>\n",
       "      <td>440.000000</td>\n",
       "      <td>440.000000</td>\n",
       "      <td>440.000000</td>\n",
       "      <td>440.000000</td>\n",
       "      <td>...</td>\n",
       "      <td>440.000000</td>\n",
       "      <td>4.400000e+02</td>\n",
       "      <td>440.000000</td>\n",
       "      <td>440.000000</td>\n",
       "      <td>440.000000</td>\n",
       "      <td>440.000000</td>\n",
       "      <td>440.000000</td>\n",
       "      <td>440.000000</td>\n",
       "      <td>440.0</td>\n",
       "      <td>440.000000</td>\n",
       "    </tr>\n",
       "    <tr>\n",
       "      <th>mean</th>\n",
       "      <td>0.500000</td>\n",
       "      <td>0.461121</td>\n",
       "      <td>0.505581</td>\n",
       "      <td>0.506352</td>\n",
       "      <td>0.602675</td>\n",
       "      <td>0.602691</td>\n",
       "      <td>0.998875</td>\n",
       "      <td>0.797008</td>\n",
       "      <td>0.808880</td>\n",
       "      <td>0.303055</td>\n",
       "      <td>...</td>\n",
       "      <td>0.772145</td>\n",
       "      <td>5.543182e+07</td>\n",
       "      <td>0.623530</td>\n",
       "      <td>0.602673</td>\n",
       "      <td>0.833270</td>\n",
       "      <td>0.286889</td>\n",
       "      <td>0.027826</td>\n",
       "      <td>0.565543</td>\n",
       "      <td>1.0</td>\n",
       "      <td>0.033638</td>\n",
       "    </tr>\n",
       "    <tr>\n",
       "      <th>std</th>\n",
       "      <td>0.500569</td>\n",
       "      <td>0.081572</td>\n",
       "      <td>0.099141</td>\n",
       "      <td>0.088244</td>\n",
       "      <td>0.013571</td>\n",
       "      <td>0.013564</td>\n",
       "      <td>0.000535</td>\n",
       "      <td>0.002306</td>\n",
       "      <td>0.002998</td>\n",
       "      <td>0.003647</td>\n",
       "      <td>...</td>\n",
       "      <td>0.070567</td>\n",
       "      <td>6.321629e+08</td>\n",
       "      <td>0.005391</td>\n",
       "      <td>0.013571</td>\n",
       "      <td>0.054063</td>\n",
       "      <td>0.048946</td>\n",
       "      <td>0.012055</td>\n",
       "      <td>0.009593</td>\n",
       "      <td>0.0</td>\n",
       "      <td>0.044890</td>\n",
       "    </tr>\n",
       "    <tr>\n",
       "      <th>min</th>\n",
       "      <td>0.000000</td>\n",
       "      <td>0.024277</td>\n",
       "      <td>0.000000</td>\n",
       "      <td>0.033514</td>\n",
       "      <td>0.532906</td>\n",
       "      <td>0.532906</td>\n",
       "      <td>0.991888</td>\n",
       "      <td>0.757216</td>\n",
       "      <td>0.761550</td>\n",
       "      <td>0.235090</td>\n",
       "      <td>...</td>\n",
       "      <td>0.411809</td>\n",
       "      <td>1.323020e-04</td>\n",
       "      <td>0.587512</td>\n",
       "      <td>0.532907</td>\n",
       "      <td>0.000000</td>\n",
       "      <td>0.000000</td>\n",
       "      <td>0.004429</td>\n",
       "      <td>0.519404</td>\n",
       "      <td>1.0</td>\n",
       "      <td>0.003946</td>\n",
       "    </tr>\n",
       "    <tr>\n",
       "      <th>25%</th>\n",
       "      <td>0.000000</td>\n",
       "      <td>0.432677</td>\n",
       "      <td>0.472511</td>\n",
       "      <td>0.477783</td>\n",
       "      <td>0.596542</td>\n",
       "      <td>0.596575</td>\n",
       "      <td>0.998862</td>\n",
       "      <td>0.797106</td>\n",
       "      <td>0.809046</td>\n",
       "      <td>0.303282</td>\n",
       "      <td>...</td>\n",
       "      <td>0.756747</td>\n",
       "      <td>1.066634e-03</td>\n",
       "      <td>0.623175</td>\n",
       "      <td>0.596538</td>\n",
       "      <td>0.835924</td>\n",
       "      <td>0.278362</td>\n",
       "      <td>0.026631</td>\n",
       "      <td>0.564409</td>\n",
       "      <td>1.0</td>\n",
       "      <td>0.018097</td>\n",
       "    </tr>\n",
       "    <tr>\n",
       "      <th>50%</th>\n",
       "      <td>0.500000</td>\n",
       "      <td>0.472091</td>\n",
       "      <td>0.529655</td>\n",
       "      <td>0.522539</td>\n",
       "      <td>0.601991</td>\n",
       "      <td>0.601983</td>\n",
       "      <td>0.998971</td>\n",
       "      <td>0.797366</td>\n",
       "      <td>0.809286</td>\n",
       "      <td>0.303450</td>\n",
       "      <td>...</td>\n",
       "      <td>0.792067</td>\n",
       "      <td>2.557296e-03</td>\n",
       "      <td>0.623705</td>\n",
       "      <td>0.601986</td>\n",
       "      <td>0.839847</td>\n",
       "      <td>0.281647</td>\n",
       "      <td>0.026791</td>\n",
       "      <td>0.565158</td>\n",
       "      <td>1.0</td>\n",
       "      <td>0.023463</td>\n",
       "    </tr>\n",
       "    <tr>\n",
       "      <th>75%</th>\n",
       "      <td>1.000000</td>\n",
       "      <td>0.504534</td>\n",
       "      <td>0.562268</td>\n",
       "      <td>0.555396</td>\n",
       "      <td>0.607882</td>\n",
       "      <td>0.607891</td>\n",
       "      <td>0.999039</td>\n",
       "      <td>0.797468</td>\n",
       "      <td>0.809377</td>\n",
       "      <td>0.303535</td>\n",
       "      <td>...</td>\n",
       "      <td>0.810229</td>\n",
       "      <td>6.371038e-03</td>\n",
       "      <td>0.624044</td>\n",
       "      <td>0.607880</td>\n",
       "      <td>0.841276</td>\n",
       "      <td>0.286660</td>\n",
       "      <td>0.026873</td>\n",
       "      <td>0.565690</td>\n",
       "      <td>1.0</td>\n",
       "      <td>0.035287</td>\n",
       "    </tr>\n",
       "    <tr>\n",
       "      <th>max</th>\n",
       "      <td>1.000000</td>\n",
       "      <td>0.683030</td>\n",
       "      <td>0.767390</td>\n",
       "      <td>0.757963</td>\n",
       "      <td>0.665151</td>\n",
       "      <td>0.666023</td>\n",
       "      <td>0.999417</td>\n",
       "      <td>0.799372</td>\n",
       "      <td>0.811034</td>\n",
       "      <td>0.306126</td>\n",
       "      <td>...</td>\n",
       "      <td>0.907515</td>\n",
       "      <td>9.170000e+09</td>\n",
       "      <td>0.679654</td>\n",
       "      <td>0.665149</td>\n",
       "      <td>1.000000</td>\n",
       "      <td>1.000000</td>\n",
       "      <td>0.264577</td>\n",
       "      <td>0.735958</td>\n",
       "      <td>1.0</td>\n",
       "      <td>0.798122</td>\n",
       "    </tr>\n",
       "  </tbody>\n",
       "</table>\n",
       "<p>8 rows × 96 columns</p>\n",
       "</div>"
      ],
      "text/plain": [
       "         Bankrupt   ROA(C) before interest and depreciation before interest  \\\n",
       "count  440.000000                                         440.000000          \n",
       "mean     0.500000                                           0.461121          \n",
       "std      0.500569                                           0.081572          \n",
       "min      0.000000                                           0.024277          \n",
       "25%      0.000000                                           0.432677          \n",
       "50%      0.500000                                           0.472091          \n",
       "75%      1.000000                                           0.504534          \n",
       "max      1.000000                                           0.683030          \n",
       "\n",
       "        ROA(A) before interest and % after tax  \\\n",
       "count                               440.000000   \n",
       "mean                                  0.505581   \n",
       "std                                   0.099141   \n",
       "min                                   0.000000   \n",
       "25%                                   0.472511   \n",
       "50%                                   0.529655   \n",
       "75%                                   0.562268   \n",
       "max                                   0.767390   \n",
       "\n",
       "        ROA(B) before interest and depreciation after tax  \\\n",
       "count                                         440.000000    \n",
       "mean                                            0.506352    \n",
       "std                                             0.088244    \n",
       "min                                             0.033514    \n",
       "25%                                             0.477783    \n",
       "50%                                             0.522539    \n",
       "75%                                             0.555396    \n",
       "max                                             0.757963    \n",
       "\n",
       "        Operating Gross Margin   Realized Sales Gross Margin  \\\n",
       "count               440.000000                    440.000000   \n",
       "mean                  0.602675                      0.602691   \n",
       "std                   0.013571                      0.013564   \n",
       "min                   0.532906                      0.532906   \n",
       "25%                   0.596542                      0.596575   \n",
       "50%                   0.601991                      0.601983   \n",
       "75%                   0.607882                      0.607891   \n",
       "max                   0.665151                      0.666023   \n",
       "\n",
       "        Operating Profit Rate   Pre-tax net Interest Rate  \\\n",
       "count              440.000000                  440.000000   \n",
       "mean                 0.998875                    0.797008   \n",
       "std                  0.000535                    0.002306   \n",
       "min                  0.991888                    0.757216   \n",
       "25%                  0.998862                    0.797106   \n",
       "50%                  0.998971                    0.797366   \n",
       "75%                  0.999039                    0.797468   \n",
       "max                  0.999417                    0.799372   \n",
       "\n",
       "        After-tax net Interest Rate  \\\n",
       "count                    440.000000   \n",
       "mean                       0.808880   \n",
       "std                        0.002998   \n",
       "min                        0.761550   \n",
       "25%                        0.809046   \n",
       "50%                        0.809286   \n",
       "75%                        0.809377   \n",
       "max                        0.811034   \n",
       "\n",
       "        Non-industry income and expenditure/revenue  ...  \\\n",
       "count                                    440.000000  ...   \n",
       "mean                                       0.303055  ...   \n",
       "std                                        0.003647  ...   \n",
       "min                                        0.235090  ...   \n",
       "25%                                        0.303282  ...   \n",
       "50%                                        0.303450  ...   \n",
       "75%                                        0.303535  ...   \n",
       "max                                        0.306126  ...   \n",
       "\n",
       "        Net Income to Total Assets   Total assets to GNP price  \\\n",
       "count                   440.000000                4.400000e+02   \n",
       "mean                      0.772145                5.543182e+07   \n",
       "std                       0.070567                6.321629e+08   \n",
       "min                       0.411809                1.323020e-04   \n",
       "25%                       0.756747                1.066634e-03   \n",
       "50%                       0.792067                2.557296e-03   \n",
       "75%                       0.810229                6.371038e-03   \n",
       "max                       0.907515                9.170000e+09   \n",
       "\n",
       "        No-credit Interval   Gross Profit to Sales  \\\n",
       "count           440.000000              440.000000   \n",
       "mean              0.623530                0.602673   \n",
       "std               0.005391                0.013571   \n",
       "min               0.587512                0.532907   \n",
       "25%               0.623175                0.596538   \n",
       "50%               0.623705                0.601986   \n",
       "75%               0.624044                0.607880   \n",
       "max               0.679654                0.665149   \n",
       "\n",
       "        Net Income to Stockholder's Equity   Liability to Equity  \\\n",
       "count                           440.000000            440.000000   \n",
       "mean                              0.833270              0.286889   \n",
       "std                               0.054063              0.048946   \n",
       "min                               0.000000              0.000000   \n",
       "25%                               0.835924              0.278362   \n",
       "50%                               0.839847              0.281647   \n",
       "75%                               0.841276              0.286660   \n",
       "max                               1.000000              1.000000   \n",
       "\n",
       "        Degree of Financial Leverage (DFL)  \\\n",
       "count                           440.000000   \n",
       "mean                              0.027826   \n",
       "std                               0.012055   \n",
       "min                               0.004429   \n",
       "25%                               0.026631   \n",
       "50%                               0.026791   \n",
       "75%                               0.026873   \n",
       "max                               0.264577   \n",
       "\n",
       "        Interest Coverage Ratio (Interest expense to EBIT)   Net Income Flag  \\\n",
       "count                                         440.000000               440.0   \n",
       "mean                                            0.565543                 1.0   \n",
       "std                                             0.009593                 0.0   \n",
       "min                                             0.519404                 1.0   \n",
       "25%                                             0.564409                 1.0   \n",
       "50%                                             0.565158                 1.0   \n",
       "75%                                             0.565690                 1.0   \n",
       "max                                             0.735958                 1.0   \n",
       "\n",
       "        Equity to Liability  \n",
       "count            440.000000  \n",
       "mean               0.033638  \n",
       "std                0.044890  \n",
       "min                0.003946  \n",
       "25%                0.018097  \n",
       "50%                0.023463  \n",
       "75%                0.035287  \n",
       "max                0.798122  \n",
       "\n",
       "[8 rows x 96 columns]"
      ]
     },
     "execution_count": 23,
     "metadata": {},
     "output_type": "execute_result"
    }
   ],
   "source": [
    "undersampled_data.describe()"
   ]
  },
  {
   "cell_type": "code",
   "execution_count": 24,
   "id": "df450908",
   "metadata": {},
   "outputs": [
    {
     "data": {
      "image/png": "[encoded data removed]",
      "text/plain": [
       "<Figure size 1250x1250 with 30 Axes>"
      ]
     },
     "metadata": {},
     "output_type": "display_data"
    }
   ],
   "source": [
    "columns = ['Bankrupt', ' Operating Gross Margin', ' Operating Expense Rate', ' Cash Flow Per Share', ' Operating Profit Growth Rate']\n",
    "\n",
    "sns.pairplot(undersampled_data[columns])\n",
    "plt.show()\n",
    "#Graphically showing the correlation among variables in the undersampled data set that I believe are important."
   ]
  },
  {
   "cell_type": "code",
   "execution_count": 25,
   "id": "a0256b5c",
   "metadata": {},
   "outputs": [],
   "source": [
    "#Splitting the orginal data set into training and testing sets\n",
    "y = df[\"Bankrupt\"]\n",
    "x = df.loc[:, df.columns != \"Bankrupt\"]\n",
    "\n",
    "X_train, X_test, y_train, y_test = train_test_split(x, y, test_size=0.3)"
   ]
  },
  {
   "cell_type": "code",
   "execution_count": 26,
   "id": "398da532",
   "metadata": {},
   "outputs": [],
   "source": [
    "#Part 1"
   ]
  },
  {
   "cell_type": "code",
   "execution_count": 27,
   "id": "d7da5d92",
   "metadata": {},
   "outputs": [],
   "source": [
    "#Random Forrest "
   ]
  },
  {
   "cell_type": "code",
   "execution_count": 28,
   "id": "6c93d7b8",
   "metadata": {},
   "outputs": [
    {
     "name": "stdout",
     "output_type": "stream",
     "text": [
      "CPU times: total: 2.83 s\n",
      "Wall time: 3.1 s\n"
     ]
    },
    {
     "data": {
      "text/html": [
       "<style>#sk-container-id-1 {color: black;background-color: white;}#sk-container-id-1 pre{padding: 0;}#sk-container-id-1 div.sk-toggleable {background-color: white;}#sk-container-id-1 label.sk-toggleable__label {cursor: pointer;display: block;width: 100%;margin-bottom: 0;padding: 0.3em;box-sizing: border-box;text-align: center;}#sk-container-id-1 label.sk-toggleable__label-arrow:before {content: \"▸\";float: left;margin-right: 0.25em;color: #696969;}#sk-container-id-1 label.sk-toggleable__label-arrow:hover:before {color: black;}#sk-container-id-1 div.sk-estimator:hover label.sk-toggleable__label-arrow:before {color: black;}#sk-container-id-1 div.sk-toggleable__content {max-height: 0;max-width: 0;overflow: hidden;text-align: left;background-color: #f0f8ff;}#sk-container-id-1 div.sk-toggleable__content pre {margin: 0.2em;color: black;border-radius: 0.25em;background-color: #f0f8ff;}#sk-container-id-1 input.sk-toggleable__control:checked~div.sk-toggleable__content {max-height: 200px;max-width: 100%;overflow: auto;}#sk-container-id-1 input.sk-toggleable__control:checked~label.sk-toggleable__label-arrow:before {content: \"▾\";}#sk-container-id-1 div.sk-estimator input.sk-toggleable__control:checked~label.sk-toggleable__label {background-color: #d4ebff;}#sk-container-id-1 div.sk-label input.sk-toggleable__control:checked~label.sk-toggleable__label {background-color: #d4ebff;}#sk-container-id-1 input.sk-hidden--visually {border: 0;clip: rect(1px 1px 1px 1px);clip: rect(1px, 1px, 1px, 1px);height: 1px;margin: -1px;overflow: hidden;padding: 0;position: absolute;width: 1px;}#sk-container-id-1 div.sk-estimator {font-family: monospace;background-color: #f0f8ff;border: 1px dotted black;border-radius: 0.25em;box-sizing: border-box;margin-bottom: 0.5em;}#sk-container-id-1 div.sk-estimator:hover {background-color: #d4ebff;}#sk-container-id-1 div.sk-parallel-item::after {content: \"\";width: 100%;border-bottom: 1px solid gray;flex-grow: 1;}#sk-container-id-1 div.sk-label:hover label.sk-toggleable__label {background-color: #d4ebff;}#sk-container-id-1 div.sk-serial::before {content: \"\";position: absolute;border-left: 1px solid gray;box-sizing: border-box;top: 0;bottom: 0;left: 50%;z-index: 0;}#sk-container-id-1 div.sk-serial {display: flex;flex-direction: column;align-items: center;background-color: white;padding-right: 0.2em;padding-left: 0.2em;position: relative;}#sk-container-id-1 div.sk-item {position: relative;z-index: 1;}#sk-container-id-1 div.sk-parallel {display: flex;align-items: stretch;justify-content: center;background-color: white;position: relative;}#sk-container-id-1 div.sk-item::before, #sk-container-id-1 div.sk-parallel-item::before {content: \"\";position: absolute;border-left: 1px solid gray;box-sizing: border-box;top: 0;bottom: 0;left: 50%;z-index: -1;}#sk-container-id-1 div.sk-parallel-item {display: flex;flex-direction: column;z-index: 1;position: relative;background-color: white;}#sk-container-id-1 div.sk-parallel-item:first-child::after {align-self: flex-end;width: 50%;}#sk-container-id-1 div.sk-parallel-item:last-child::after {align-self: flex-start;width: 50%;}#sk-container-id-1 div.sk-parallel-item:only-child::after {width: 0;}#sk-container-id-1 div.sk-dashed-wrapped {border: 1px dashed gray;margin: 0 0.4em 0.5em 0.4em;box-sizing: border-box;padding-bottom: 0.4em;background-color: white;}#sk-container-id-1 div.sk-label label {font-family: monospace;font-weight: bold;display: inline-block;line-height: 1.2em;}#sk-container-id-1 div.sk-label-container {text-align: center;}#sk-container-id-1 div.sk-container {/* jupyter's `normalize.less` sets `[hidden] { display: none; }` but bootstrap.min.css set `[hidden] { display: none !important; }` so we also need the `!important` here to be able to override the default hidden behavior on the sphinx rendered scikit-learn.org. See: https://github.com/scikit-learn/scikit-learn/issues/21755 */display: inline-block !important;position: relative;}#sk-container-id-1 div.sk-text-repr-fallback {display: none;}</style><div id=\"sk-container-id-1\" class=\"sk-top-container\"><div class=\"sk-text-repr-fallback\"><pre>RandomForestClassifier()</pre><b>In a Jupyter environment, please rerun this cell to show the HTML representation or trust the notebook. <br />On GitHub, the HTML representation is unable to render, please try loading this page with nbviewer.org.</b></div><div class=\"sk-container\" hidden><div class=\"sk-item\"><div class=\"sk-estimator sk-toggleable\"><input class=\"sk-toggleable__control sk-hidden--visually\" id=\"sk-estimator-id-1\" type=\"checkbox\" checked><label for=\"sk-estimator-id-1\" class=\"sk-toggleable__label sk-toggleable__label-arrow\">RandomForestClassifier</label><div class=\"sk-toggleable__content\"><pre>RandomForestClassifier()</pre></div></div></div></div></div>"
      ],
      "text/plain": [
       "RandomForestClassifier()"
      ]
     },
     "execution_count": 28,
     "metadata": {},
     "output_type": "execute_result"
    }
   ],
   "source": [
    "%%time\n",
    "\n",
    "RF_class = RandomForestClassifier()\n",
    "RF_class.fit(X_train, y_train)\n",
    "#Fitting the random forest model using default parameters. It had a CPU time of 4.95s."
   ]
  },
  {
   "cell_type": "code",
   "execution_count": 29,
   "id": "17cbfdc8",
   "metadata": {},
   "outputs": [
    {
     "name": "stdout",
     "output_type": "stream",
     "text": [
      "0.9711632453567938\n"
     ]
    }
   ],
   "source": [
    "preds = RF_class.predict(X_test)\n",
    "\n",
    "accuracy = accuracy_score(y_test, preds)\n",
    "print(accuracy)"
   ]
  },
  {
   "cell_type": "code",
   "execution_count": 30,
   "id": "db7e49af",
   "metadata": {},
   "outputs": [
    {
     "name": "stdout",
     "output_type": "stream",
     "text": [
      "0.7\n"
     ]
    }
   ],
   "source": [
    "precision = precision_score(y_test, preds)\n",
    "print(precision)"
   ]
  },
  {
   "cell_type": "code",
   "execution_count": 31,
   "id": "a14105db",
   "metadata": {},
   "outputs": [],
   "source": [
    "#It accurately predicted the correct class about 97% of the time, however it accurately predicted positive predictions 52% of the tine with a precision of 0.526."
   ]
  },
  {
   "cell_type": "code",
   "execution_count": 32,
   "id": "48a64b82",
   "metadata": {},
   "outputs": [
    {
     "name": "stdout",
     "output_type": "stream",
     "text": [
      "CPU times: total: 984 ms\n",
      "Wall time: 1.24 s\n"
     ]
    },
    {
     "data": {
      "text/html": [
       "<style>#sk-container-id-2 {color: black;background-color: white;}#sk-container-id-2 pre{padding: 0;}#sk-container-id-2 div.sk-toggleable {background-color: white;}#sk-container-id-2 label.sk-toggleable__label {cursor: pointer;display: block;width: 100%;margin-bottom: 0;padding: 0.3em;box-sizing: border-box;text-align: center;}#sk-container-id-2 label.sk-toggleable__label-arrow:before {content: \"▸\";float: left;margin-right: 0.25em;color: #696969;}#sk-container-id-2 label.sk-toggleable__label-arrow:hover:before {color: black;}#sk-container-id-2 div.sk-estimator:hover label.sk-toggleable__label-arrow:before {color: black;}#sk-container-id-2 div.sk-toggleable__content {max-height: 0;max-width: 0;overflow: hidden;text-align: left;background-color: #f0f8ff;}#sk-container-id-2 div.sk-toggleable__content pre {margin: 0.2em;color: black;border-radius: 0.25em;background-color: #f0f8ff;}#sk-container-id-2 input.sk-toggleable__control:checked~div.sk-toggleable__content {max-height: 200px;max-width: 100%;overflow: auto;}#sk-container-id-2 input.sk-toggleable__control:checked~label.sk-toggleable__label-arrow:before {content: \"▾\";}#sk-container-id-2 div.sk-estimator input.sk-toggleable__control:checked~label.sk-toggleable__label {background-color: #d4ebff;}#sk-container-id-2 div.sk-label input.sk-toggleable__control:checked~label.sk-toggleable__label {background-color: #d4ebff;}#sk-container-id-2 input.sk-hidden--visually {border: 0;clip: rect(1px 1px 1px 1px);clip: rect(1px, 1px, 1px, 1px);height: 1px;margin: -1px;overflow: hidden;padding: 0;position: absolute;width: 1px;}#sk-container-id-2 div.sk-estimator {font-family: monospace;background-color: #f0f8ff;border: 1px dotted black;border-radius: 0.25em;box-sizing: border-box;margin-bottom: 0.5em;}#sk-container-id-2 div.sk-estimator:hover {background-color: #d4ebff;}#sk-container-id-2 div.sk-parallel-item::after {content: \"\";width: 100%;border-bottom: 1px solid gray;flex-grow: 1;}#sk-container-id-2 div.sk-label:hover label.sk-toggleable__label {background-color: #d4ebff;}#sk-container-id-2 div.sk-serial::before {content: \"\";position: absolute;border-left: 1px solid gray;box-sizing: border-box;top: 0;bottom: 0;left: 50%;z-index: 0;}#sk-container-id-2 div.sk-serial {display: flex;flex-direction: column;align-items: center;background-color: white;padding-right: 0.2em;padding-left: 0.2em;position: relative;}#sk-container-id-2 div.sk-item {position: relative;z-index: 1;}#sk-container-id-2 div.sk-parallel {display: flex;align-items: stretch;justify-content: center;background-color: white;position: relative;}#sk-container-id-2 div.sk-item::before, #sk-container-id-2 div.sk-parallel-item::before {content: \"\";position: absolute;border-left: 1px solid gray;box-sizing: border-box;top: 0;bottom: 0;left: 50%;z-index: -1;}#sk-container-id-2 div.sk-parallel-item {display: flex;flex-direction: column;z-index: 1;position: relative;background-color: white;}#sk-container-id-2 div.sk-parallel-item:first-child::after {align-self: flex-end;width: 50%;}#sk-container-id-2 div.sk-parallel-item:last-child::after {align-self: flex-start;width: 50%;}#sk-container-id-2 div.sk-parallel-item:only-child::after {width: 0;}#sk-container-id-2 div.sk-dashed-wrapped {border: 1px dashed gray;margin: 0 0.4em 0.5em 0.4em;box-sizing: border-box;padding-bottom: 0.4em;background-color: white;}#sk-container-id-2 div.sk-label label {font-family: monospace;font-weight: bold;display: inline-block;line-height: 1.2em;}#sk-container-id-2 div.sk-label-container {text-align: center;}#sk-container-id-2 div.sk-container {/* jupyter's `normalize.less` sets `[hidden] { display: none; }` but bootstrap.min.css set `[hidden] { display: none !important; }` so we also need the `!important` here to be able to override the default hidden behavior on the sphinx rendered scikit-learn.org. See: https://github.com/scikit-learn/scikit-learn/issues/21755 */display: inline-block !important;position: relative;}#sk-container-id-2 div.sk-text-repr-fallback {display: none;}</style><div id=\"sk-container-id-2\" class=\"sk-top-container\"><div class=\"sk-text-repr-fallback\"><pre>RandomForestClassifier(criterion=&#x27;entropy&#x27;, n_estimators=50)</pre><b>In a Jupyter environment, please rerun this cell to show the HTML representation or trust the notebook. <br />On GitHub, the HTML representation is unable to render, please try loading this page with nbviewer.org.</b></div><div class=\"sk-container\" hidden><div class=\"sk-item\"><div class=\"sk-estimator sk-toggleable\"><input class=\"sk-toggleable__control sk-hidden--visually\" id=\"sk-estimator-id-2\" type=\"checkbox\" checked><label for=\"sk-estimator-id-2\" class=\"sk-toggleable__label sk-toggleable__label-arrow\">RandomForestClassifier</label><div class=\"sk-toggleable__content\"><pre>RandomForestClassifier(criterion=&#x27;entropy&#x27;, n_estimators=50)</pre></div></div></div></div></div>"
      ],
      "text/plain": [
       "RandomForestClassifier(criterion='entropy', n_estimators=50)"
      ]
     },
     "execution_count": 32,
     "metadata": {},
     "output_type": "execute_result"
    }
   ],
   "source": [
    "%%time\n",
    "\n",
    "RF_class_nonDefault = RandomForestClassifier(n_estimators = 50, criterion = 'entropy')\n",
    "RF_class_nonDefault.fit(X_train, y_train)\n",
    "\n",
    "#Fitting the random forest model using different parameters. This one only had a CPU time of 2.16s."
   ]
  },
  {
   "cell_type": "code",
   "execution_count": 33,
   "id": "0943a74d",
   "metadata": {},
   "outputs": [
    {
     "name": "stdout",
     "output_type": "stream",
     "text": [
      "0.9682306940371457\n"
     ]
    }
   ],
   "source": [
    "preds2 = RF_class_nonDefault.predict(X_test)\n",
    "\n",
    "accuracy2 = accuracy_score(y_test, preds2)\n",
    "print(accuracy2)"
   ]
  },
  {
   "cell_type": "code",
   "execution_count": 34,
   "id": "a506cfa1",
   "metadata": {},
   "outputs": [
    {
     "name": "stdout",
     "output_type": "stream",
     "text": [
      "0.5555555555555556\n"
     ]
    }
   ],
   "source": [
    "precision2 = precision_score(y_test, preds2)\n",
    "print(precision2)"
   ]
  },
  {
   "cell_type": "code",
   "execution_count": 35,
   "id": "93e1a4e3",
   "metadata": {},
   "outputs": [],
   "source": [
    "#I prefer this second model as it had a lower CPU time as well as a slightly higher accuracy of 0.974 and higher precision of 0.736."
   ]
  },
  {
   "cell_type": "code",
   "execution_count": 36,
   "id": "e81a681e",
   "metadata": {},
   "outputs": [
    {
     "name": "stdout",
     "output_type": "stream",
     "text": [
      "CPU times: total: 2.12 s\n",
      "Wall time: 2.4 s\n"
     ]
    },
    {
     "data": {
      "text/html": [
       "<style>#sk-container-id-3 {color: black;background-color: white;}#sk-container-id-3 pre{padding: 0;}#sk-container-id-3 div.sk-toggleable {background-color: white;}#sk-container-id-3 label.sk-toggleable__label {cursor: pointer;display: block;width: 100%;margin-bottom: 0;padding: 0.3em;box-sizing: border-box;text-align: center;}#sk-container-id-3 label.sk-toggleable__label-arrow:before {content: \"▸\";float: left;margin-right: 0.25em;color: #696969;}#sk-container-id-3 label.sk-toggleable__label-arrow:hover:before {color: black;}#sk-container-id-3 div.sk-estimator:hover label.sk-toggleable__label-arrow:before {color: black;}#sk-container-id-3 div.sk-toggleable__content {max-height: 0;max-width: 0;overflow: hidden;text-align: left;background-color: #f0f8ff;}#sk-container-id-3 div.sk-toggleable__content pre {margin: 0.2em;color: black;border-radius: 0.25em;background-color: #f0f8ff;}#sk-container-id-3 input.sk-toggleable__control:checked~div.sk-toggleable__content {max-height: 200px;max-width: 100%;overflow: auto;}#sk-container-id-3 input.sk-toggleable__control:checked~label.sk-toggleable__label-arrow:before {content: \"▾\";}#sk-container-id-3 div.sk-estimator input.sk-toggleable__control:checked~label.sk-toggleable__label {background-color: #d4ebff;}#sk-container-id-3 div.sk-label input.sk-toggleable__control:checked~label.sk-toggleable__label {background-color: #d4ebff;}#sk-container-id-3 input.sk-hidden--visually {border: 0;clip: rect(1px 1px 1px 1px);clip: rect(1px, 1px, 1px, 1px);height: 1px;margin: -1px;overflow: hidden;padding: 0;position: absolute;width: 1px;}#sk-container-id-3 div.sk-estimator {font-family: monospace;background-color: #f0f8ff;border: 1px dotted black;border-radius: 0.25em;box-sizing: border-box;margin-bottom: 0.5em;}#sk-container-id-3 div.sk-estimator:hover {background-color: #d4ebff;}#sk-container-id-3 div.sk-parallel-item::after {content: \"\";width: 100%;border-bottom: 1px solid gray;flex-grow: 1;}#sk-container-id-3 div.sk-label:hover label.sk-toggleable__label {background-color: #d4ebff;}#sk-container-id-3 div.sk-serial::before {content: \"\";position: absolute;border-left: 1px solid gray;box-sizing: border-box;top: 0;bottom: 0;left: 50%;z-index: 0;}#sk-container-id-3 div.sk-serial {display: flex;flex-direction: column;align-items: center;background-color: white;padding-right: 0.2em;padding-left: 0.2em;position: relative;}#sk-container-id-3 div.sk-item {position: relative;z-index: 1;}#sk-container-id-3 div.sk-parallel {display: flex;align-items: stretch;justify-content: center;background-color: white;position: relative;}#sk-container-id-3 div.sk-item::before, #sk-container-id-3 div.sk-parallel-item::before {content: \"\";position: absolute;border-left: 1px solid gray;box-sizing: border-box;top: 0;bottom: 0;left: 50%;z-index: -1;}#sk-container-id-3 div.sk-parallel-item {display: flex;flex-direction: column;z-index: 1;position: relative;background-color: white;}#sk-container-id-3 div.sk-parallel-item:first-child::after {align-self: flex-end;width: 50%;}#sk-container-id-3 div.sk-parallel-item:last-child::after {align-self: flex-start;width: 50%;}#sk-container-id-3 div.sk-parallel-item:only-child::after {width: 0;}#sk-container-id-3 div.sk-dashed-wrapped {border: 1px dashed gray;margin: 0 0.4em 0.5em 0.4em;box-sizing: border-box;padding-bottom: 0.4em;background-color: white;}#sk-container-id-3 div.sk-label label {font-family: monospace;font-weight: bold;display: inline-block;line-height: 1.2em;}#sk-container-id-3 div.sk-label-container {text-align: center;}#sk-container-id-3 div.sk-container {/* jupyter's `normalize.less` sets `[hidden] { display: none; }` but bootstrap.min.css set `[hidden] { display: none !important; }` so we also need the `!important` here to be able to override the default hidden behavior on the sphinx rendered scikit-learn.org. See: https://github.com/scikit-learn/scikit-learn/issues/21755 */display: inline-block !important;position: relative;}#sk-container-id-3 div.sk-text-repr-fallback {display: none;}</style><div id=\"sk-container-id-3\" class=\"sk-top-container\"><div class=\"sk-text-repr-fallback\"><pre>RandomForestClassifier(criterion=&#x27;entropy&#x27;)</pre><b>In a Jupyter environment, please rerun this cell to show the HTML representation or trust the notebook. <br />On GitHub, the HTML representation is unable to render, please try loading this page with nbviewer.org.</b></div><div class=\"sk-container\" hidden><div class=\"sk-item\"><div class=\"sk-estimator sk-toggleable\"><input class=\"sk-toggleable__control sk-hidden--visually\" id=\"sk-estimator-id-3\" type=\"checkbox\" checked><label for=\"sk-estimator-id-3\" class=\"sk-toggleable__label sk-toggleable__label-arrow\">RandomForestClassifier</label><div class=\"sk-toggleable__content\"><pre>RandomForestClassifier(criterion=&#x27;entropy&#x27;)</pre></div></div></div></div></div>"
      ],
      "text/plain": [
       "RandomForestClassifier(criterion='entropy')"
      ]
     },
     "execution_count": 36,
     "metadata": {},
     "output_type": "execute_result"
    }
   ],
   "source": [
    "%%time\n",
    "\n",
    "RF_class_crit = RandomForestClassifier(criterion = 'entropy')\n",
    "RF_class_crit.fit(X_train, y_train)\n",
    "#Fitting a new model with only changing criterion to comppare entropy to gini."
   ]
  },
  {
   "cell_type": "code",
   "execution_count": 37,
   "id": "bacefccc",
   "metadata": {},
   "outputs": [
    {
     "name": "stdout",
     "output_type": "stream",
     "text": [
      "0.969208211143695\n"
     ]
    }
   ],
   "source": [
    "preds3 = RF_class_crit.predict(X_test)\n",
    "\n",
    "accuracy3 = accuracy_score(y_test, preds3)\n",
    "print(accuracy3)"
   ]
  },
  {
   "cell_type": "code",
   "execution_count": 38,
   "id": "9f7b2679",
   "metadata": {},
   "outputs": [
    {
     "name": "stdout",
     "output_type": "stream",
     "text": [
      "0.6428571428571429\n"
     ]
    }
   ],
   "source": [
    "precision3 = precision_score(y_test, preds3)\n",
    "print(precision3)"
   ]
  },
  {
   "cell_type": "code",
   "execution_count": 39,
   "id": "9868f11c",
   "metadata": {
    "scrolled": true
   },
   "outputs": [
    {
     "name": "stdout",
     "output_type": "stream",
     "text": [
      "CPU times: total: 1.19 s\n",
      "Wall time: 1.44 s\n"
     ]
    },
    {
     "data": {
      "text/html": [
       "<style>#sk-container-id-4 {color: black;background-color: white;}#sk-container-id-4 pre{padding: 0;}#sk-container-id-4 div.sk-toggleable {background-color: white;}#sk-container-id-4 label.sk-toggleable__label {cursor: pointer;display: block;width: 100%;margin-bottom: 0;padding: 0.3em;box-sizing: border-box;text-align: center;}#sk-container-id-4 label.sk-toggleable__label-arrow:before {content: \"▸\";float: left;margin-right: 0.25em;color: #696969;}#sk-container-id-4 label.sk-toggleable__label-arrow:hover:before {color: black;}#sk-container-id-4 div.sk-estimator:hover label.sk-toggleable__label-arrow:before {color: black;}#sk-container-id-4 div.sk-toggleable__content {max-height: 0;max-width: 0;overflow: hidden;text-align: left;background-color: #f0f8ff;}#sk-container-id-4 div.sk-toggleable__content pre {margin: 0.2em;color: black;border-radius: 0.25em;background-color: #f0f8ff;}#sk-container-id-4 input.sk-toggleable__control:checked~div.sk-toggleable__content {max-height: 200px;max-width: 100%;overflow: auto;}#sk-container-id-4 input.sk-toggleable__control:checked~label.sk-toggleable__label-arrow:before {content: \"▾\";}#sk-container-id-4 div.sk-estimator input.sk-toggleable__control:checked~label.sk-toggleable__label {background-color: #d4ebff;}#sk-container-id-4 div.sk-label input.sk-toggleable__control:checked~label.sk-toggleable__label {background-color: #d4ebff;}#sk-container-id-4 input.sk-hidden--visually {border: 0;clip: rect(1px 1px 1px 1px);clip: rect(1px, 1px, 1px, 1px);height: 1px;margin: -1px;overflow: hidden;padding: 0;position: absolute;width: 1px;}#sk-container-id-4 div.sk-estimator {font-family: monospace;background-color: #f0f8ff;border: 1px dotted black;border-radius: 0.25em;box-sizing: border-box;margin-bottom: 0.5em;}#sk-container-id-4 div.sk-estimator:hover {background-color: #d4ebff;}#sk-container-id-4 div.sk-parallel-item::after {content: \"\";width: 100%;border-bottom: 1px solid gray;flex-grow: 1;}#sk-container-id-4 div.sk-label:hover label.sk-toggleable__label {background-color: #d4ebff;}#sk-container-id-4 div.sk-serial::before {content: \"\";position: absolute;border-left: 1px solid gray;box-sizing: border-box;top: 0;bottom: 0;left: 50%;z-index: 0;}#sk-container-id-4 div.sk-serial {display: flex;flex-direction: column;align-items: center;background-color: white;padding-right: 0.2em;padding-left: 0.2em;position: relative;}#sk-container-id-4 div.sk-item {position: relative;z-index: 1;}#sk-container-id-4 div.sk-parallel {display: flex;align-items: stretch;justify-content: center;background-color: white;position: relative;}#sk-container-id-4 div.sk-item::before, #sk-container-id-4 div.sk-parallel-item::before {content: \"\";position: absolute;border-left: 1px solid gray;box-sizing: border-box;top: 0;bottom: 0;left: 50%;z-index: -1;}#sk-container-id-4 div.sk-parallel-item {display: flex;flex-direction: column;z-index: 1;position: relative;background-color: white;}#sk-container-id-4 div.sk-parallel-item:first-child::after {align-self: flex-end;width: 50%;}#sk-container-id-4 div.sk-parallel-item:last-child::after {align-self: flex-start;width: 50%;}#sk-container-id-4 div.sk-parallel-item:only-child::after {width: 0;}#sk-container-id-4 div.sk-dashed-wrapped {border: 1px dashed gray;margin: 0 0.4em 0.5em 0.4em;box-sizing: border-box;padding-bottom: 0.4em;background-color: white;}#sk-container-id-4 div.sk-label label {font-family: monospace;font-weight: bold;display: inline-block;line-height: 1.2em;}#sk-container-id-4 div.sk-label-container {text-align: center;}#sk-container-id-4 div.sk-container {/* jupyter's `normalize.less` sets `[hidden] { display: none; }` but bootstrap.min.css set `[hidden] { display: none !important; }` so we also need the `!important` here to be able to override the default hidden behavior on the sphinx rendered scikit-learn.org. See: https://github.com/scikit-learn/scikit-learn/issues/21755 */display: inline-block !important;position: relative;}#sk-container-id-4 div.sk-text-repr-fallback {display: none;}</style><div id=\"sk-container-id-4\" class=\"sk-top-container\"><div class=\"sk-text-repr-fallback\"><pre>RandomForestClassifier(n_estimators=50)</pre><b>In a Jupyter environment, please rerun this cell to show the HTML representation or trust the notebook. <br />On GitHub, the HTML representation is unable to render, please try loading this page with nbviewer.org.</b></div><div class=\"sk-container\" hidden><div class=\"sk-item\"><div class=\"sk-estimator sk-toggleable\"><input class=\"sk-toggleable__control sk-hidden--visually\" id=\"sk-estimator-id-4\" type=\"checkbox\" checked><label for=\"sk-estimator-id-4\" class=\"sk-toggleable__label sk-toggleable__label-arrow\">RandomForestClassifier</label><div class=\"sk-toggleable__content\"><pre>RandomForestClassifier(n_estimators=50)</pre></div></div></div></div></div>"
      ],
      "text/plain": [
       "RandomForestClassifier(n_estimators=50)"
      ]
     },
     "execution_count": 39,
     "metadata": {},
     "output_type": "execute_result"
    }
   ],
   "source": [
    "%%time\n",
    "\n",
    "RF_class_est = RandomForestClassifier(n_estimators = 50)\n",
    "RF_class_est.fit(X_train, y_train)\n",
    "#Fitting a new model with only changing n_estimators to comppare to default"
   ]
  },
  {
   "cell_type": "code",
   "execution_count": 40,
   "id": "545a4f91",
   "metadata": {},
   "outputs": [
    {
     "name": "stdout",
     "output_type": "stream",
     "text": [
      "0.9701857282502444\n"
     ]
    }
   ],
   "source": [
    "preds4 = RF_class_est.predict(X_test)\n",
    "\n",
    "accuracy4 = accuracy_score(y_test, preds4)\n",
    "print(accuracy4)"
   ]
  },
  {
   "cell_type": "code",
   "execution_count": 41,
   "id": "f032c918",
   "metadata": {},
   "outputs": [
    {
     "name": "stdout",
     "output_type": "stream",
     "text": [
      "0.6666666666666666\n"
     ]
    }
   ],
   "source": [
    "precision4 = precision_score(y_test, preds4)\n",
    "print(precision4)"
   ]
  },
  {
   "cell_type": "code",
   "execution_count": 42,
   "id": "a5333de6",
   "metadata": {},
   "outputs": [],
   "source": [
    "#After comparing all the different combinations between n_estimators and criterion, the best one was setting n_estimators to 50 and criterion to entropy as it had the lowest CPU time and high accuracy and precision scores. It appears entropy did better."
   ]
  },
  {
   "cell_type": "code",
   "execution_count": 43,
   "id": "a4851e04",
   "metadata": {},
   "outputs": [
    {
     "name": "stdout",
     "output_type": "stream",
     "text": [
      "[0.01163672 0.01618314 0.01772936 0.00645162 0.00740819 0.00562611\n",
      " 0.00688283 0.01944306 0.01751167 0.02122026 0.00781451 0.00533905\n",
      " 0.00677222 0.01172471 0.00218756 0.01943392 0.01457605 0.01773464\n",
      " 0.03841196 0.00488241 0.00487182 0.00659316 0.02060076 0.00565922\n",
      " 0.00609401 0.00578972 0.00394798 0.00630316 0.00795953 0.02428991\n",
      " 0.00592058 0.00689996 0.00698614 0.01240017 0.0105508  0.03370205\n",
      " 0.02086139 0.01594937 0.00522036 0.02976736 0.00296498 0.00742029\n",
      " 0.02162315 0.00503096 0.00396966 0.01044334 0.00769222 0.00707114\n",
      " 0.00886056 0.0050232  0.01305222 0.00921922 0.01122726 0.00686973\n",
      " 0.00538185 0.00670807 0.01105883 0.01013406 0.01243726 0.00805629\n",
      " 0.00635034 0.00717966 0.00961678 0.00514587 0.00659427 0.00866052\n",
      " 0.00477856 0.02200052 0.01740728 0.00648057 0.00603212 0.0054647\n",
      " 0.00640957 0.00947733 0.0061416  0.00374597 0.00454347 0.0097399\n",
      " 0.00577286 0.00655467 0.00750593 0.00459566 0.00517134 0.00689725\n",
      " 0.         0.01862992 0.0109552  0.00795498 0.00766088 0.0301916\n",
      " 0.01868178 0.01392135 0.01180244 0.         0.02435337]\n"
     ]
    }
   ],
   "source": [
    "feature_importance = RF_class_nonDefault.feature_importances_\n",
    "print(feature_importance)\n",
    "#Getting the feature importance from my second model "
   ]
  },
  {
   "cell_type": "code",
   "execution_count": 44,
   "id": "445e4067",
   "metadata": {
    "scrolled": true
   },
   "outputs": [
    {
     "name": "stdout",
     "output_type": "stream",
     "text": [
      "    Importance                                            Feature\n",
      "18    0.038412            Persistent EPS in the Last Four Seasons\n",
      "35    0.033702                         Total debt/Total net worth\n",
      "89    0.030192                 Net Income to Stockholder's Equity\n",
      "39    0.029767                               Borrowing dependency\n",
      "94    0.024353                                Equity to Liability\n",
      "29    0.024290                              Net Value Growth Rate\n",
      "67    0.022001                  Retained Earnings to Total Assets\n",
      "42    0.021623              Net profit before tax/Paid-in capital\n",
      "9     0.021220               Continuous interest rate (after tax)\n",
      "36    0.020861                                       Debt ratio %\n",
      "22    0.020601           Per Share Net profit before tax (Yuan ¥)\n",
      "7     0.019443                        After-tax net Interest Rate\n",
      "15    0.019434                            Net Value Per Share (B)\n",
      "90    0.018682                                Liability to Equity\n",
      "85    0.018630                         Net Income to Total Assets\n",
      "17    0.017735                            Net Value Per Share (C)\n",
      "2     0.017729   ROA(B) before interest and depreciation after...\n",
      "8     0.017512        Non-industry income and expenditure/revenue\n",
      "68    0.017407                         Total income/Total expense\n",
      "1     0.016183             ROA(A) before interest and % after tax\n",
      "37    0.015949                                   Net worth/Assets\n",
      "16    0.014576                            Net Value Per Share (A)\n",
      "91    0.013921                 Degree of Financial Leverage (DFL)\n",
      "50    0.013052                                 Revenue per person\n",
      "58    0.012437                             Cash/Current Liability\n",
      "33    0.012400                                        Quick Ratio\n",
      "92    0.011802   Interest Coverage Ratio (Interest expense to ...\n",
      "13    0.011725                Interest-bearing debt interest rate\n",
      "0     0.011637   ROA(C) before interest and depreciation befor...\n",
      "52    0.011227                         Allocation rate per person\n",
      "56    0.011059                                  Cash/Total Assets\n",
      "86    0.010955                          Total assets to GNP price\n",
      "34    0.010551                             Interest Expense Ratio\n",
      "45    0.010443                       Accounts Receivable Turnover\n",
      "57    0.010134                     Quick Assets/Current Liability\n",
      "77    0.009740                        Current Liability to Equity\n",
      "62    0.009617                        Inventory/Current Liability\n",
      "73    0.009477                                 Cash Turnover Rate\n",
      "51    0.009219                        Operating profit per person\n",
      "48    0.008861                    Fixed Assets Turnover Frequency\n",
      "65    0.008661                         Current Liabilities/Equity\n",
      "59    0.008056                        Current Liability to Assets\n",
      "28    0.007960                            Total Asset Growth Rate\n",
      "87    0.007955                                 No-credit Interval\n",
      "10    0.007815                             Operating Expense Rate\n",
      "46    0.007692                            Average Collection Days\n",
      "88    0.007661                              Gross Profit to Sales\n",
      "80    0.007506                             Cash Flow to Liability\n",
      "41    0.007420                   Operating profit/Paid-in capital\n",
      "4     0.007408                        Realized Sales Gross Margin\n",
      "61    0.007180                          Inventory/Working Capital\n",
      "47    0.007071                    Inventory Turnover Rate (times)\n",
      "32    0.006986                                      Current Ratio\n",
      "31    0.006900                                Cash Reinvestment %\n",
      "83    0.006897                Current Liability to Current Assets\n",
      "6     0.006883                          Pre-tax net Interest Rate\n",
      "53    0.006870                    Working Capital to Total Assets\n",
      "12    0.006772                                     Cash flow rate\n",
      "55    0.006708                        Current Assets/Total Assets\n",
      "64    0.006594                             Working Capital/Equity\n",
      "21    0.006593                Operating Profit Per Share (Yuan ¥)\n",
      "79    0.006555                          Cash Flow to Total Assets\n",
      "69    0.006481                               Total expense/Assets\n",
      "3     0.006452                             Operating Gross Margin\n",
      "72    0.006410                     Working capitcal Turnover Rate\n",
      "60    0.006350                       Operating Funds to Liability\n",
      "27    0.006303                  Continuous Net Profit Growth Rate\n",
      "74    0.006142                                 Cash Flow to Sales\n",
      "24    0.006094                       Operating Profit Growth Rate\n",
      "70    0.006032                        Current Asset Turnover Rate\n",
      "30    0.005921               Total Asset Return Growth Rate Ratio\n",
      "25    0.005790                   After-tax Net Profit Growth Rate\n",
      "78    0.005773                      Equity to Long-term Liability\n",
      "23    0.005659            Realized Sales Gross Profit Growth Rate\n",
      "5     0.005626                              Operating Profit Rate\n",
      "71    0.005465                          Quick Asset Turnover Rate\n",
      "54    0.005382                          Quick Assets/Total Assets\n",
      "11    0.005339              Research and development expense rate\n",
      "38    0.005220               Long-term fund suitability ratio (A)\n",
      "82    0.005171                                Cash Flow to Equity\n",
      "63    0.005146                      Current Liabilities/Liability\n",
      "43    0.005031        Inventory and accounts receivable/Net value\n",
      "49    0.005023                    Net Worth Turnover Rate (times)\n",
      "19    0.004882                                Cash Flow Per Share\n",
      "20    0.004872                         Revenue Per Share (Yuan ¥)\n",
      "66    0.004779              Long-term Liability to Current Assets\n",
      "81    0.004596                                      CFO to Assets\n",
      "76    0.004543                     Current Liability to Liability\n",
      "44    0.003970                               Total Asset Turnover\n",
      "26    0.003948                     Regular Net Profit Growth Rate\n",
      "75    0.003746                             Fixed Assets to Assets\n",
      "40    0.002965                   Contingent liabilities/Net worth\n",
      "14    0.002188                                       Tax rate (A)\n",
      "84    0.000000                              Liability-Assets Flag\n",
      "93    0.000000                                    Net Income Flag\n"
     ]
    }
   ],
   "source": [
    "df_feature = pd.DataFrame({'Importance': feature_importance})\n",
    "\n",
    "df_feature['Feature'] = X_train.columns\n",
    "\n",
    "df_feature = df_feature.sort_values(by='Importance', ascending=False)\n",
    "\n",
    "pd.set_option('display.max_rows', None)\n",
    "pd.set_option('display.max_columns', None)\n",
    "\n",
    "print(df_feature)\n"
   ]
  },
  {
   "cell_type": "code",
   "execution_count": 45,
   "id": "51f9b3b6",
   "metadata": {},
   "outputs": [],
   "source": [
    "#These rules do make sense as the features with the highest importance are variables that are very important in business and can determine whether or not a company goes bankrupt. Persistent EPS is the top one, and this is something that measures earnings per share, something investors care a lot about. Another important feature is debt ratio, having too much debt can lead to bankruptcy quite easily.One with little importance is tax rate, as this does not matter much company to company. "
   ]
  },
  {
   "cell_type": "code",
   "execution_count": 46,
   "id": "e5e41271",
   "metadata": {},
   "outputs": [],
   "source": [
    "#In my case, the model that performed the best actually had the fastest time. However, I did not change many parameters, and I assume that normally a model that takes a long time to fit will actually perform better as it is taking more calculations into account. So the tradeoff is you may give up a fast time for better performance. "
   ]
  },
  {
   "cell_type": "code",
   "execution_count": 47,
   "id": "9687e3e3",
   "metadata": {},
   "outputs": [],
   "source": [
    "#SVM"
   ]
  },
  {
   "cell_type": "code",
   "execution_count": 48,
   "id": "61dd5152",
   "metadata": {},
   "outputs": [
    {
     "name": "stdout",
     "output_type": "stream",
     "text": [
      "CPU times: total: 312 ms\n",
      "Wall time: 408 ms\n"
     ]
    },
    {
     "data": {
      "text/html": [
       "<style>#sk-container-id-5 {color: black;background-color: white;}#sk-container-id-5 pre{padding: 0;}#sk-container-id-5 div.sk-toggleable {background-color: white;}#sk-container-id-5 label.sk-toggleable__label {cursor: pointer;display: block;width: 100%;margin-bottom: 0;padding: 0.3em;box-sizing: border-box;text-align: center;}#sk-container-id-5 label.sk-toggleable__label-arrow:before {content: \"▸\";float: left;margin-right: 0.25em;color: #696969;}#sk-container-id-5 label.sk-toggleable__label-arrow:hover:before {color: black;}#sk-container-id-5 div.sk-estimator:hover label.sk-toggleable__label-arrow:before {color: black;}#sk-container-id-5 div.sk-toggleable__content {max-height: 0;max-width: 0;overflow: hidden;text-align: left;background-color: #f0f8ff;}#sk-container-id-5 div.sk-toggleable__content pre {margin: 0.2em;color: black;border-radius: 0.25em;background-color: #f0f8ff;}#sk-container-id-5 input.sk-toggleable__control:checked~div.sk-toggleable__content {max-height: 200px;max-width: 100%;overflow: auto;}#sk-container-id-5 input.sk-toggleable__control:checked~label.sk-toggleable__label-arrow:before {content: \"▾\";}#sk-container-id-5 div.sk-estimator input.sk-toggleable__control:checked~label.sk-toggleable__label {background-color: #d4ebff;}#sk-container-id-5 div.sk-label input.sk-toggleable__control:checked~label.sk-toggleable__label {background-color: #d4ebff;}#sk-container-id-5 input.sk-hidden--visually {border: 0;clip: rect(1px 1px 1px 1px);clip: rect(1px, 1px, 1px, 1px);height: 1px;margin: -1px;overflow: hidden;padding: 0;position: absolute;width: 1px;}#sk-container-id-5 div.sk-estimator {font-family: monospace;background-color: #f0f8ff;border: 1px dotted black;border-radius: 0.25em;box-sizing: border-box;margin-bottom: 0.5em;}#sk-container-id-5 div.sk-estimator:hover {background-color: #d4ebff;}#sk-container-id-5 div.sk-parallel-item::after {content: \"\";width: 100%;border-bottom: 1px solid gray;flex-grow: 1;}#sk-container-id-5 div.sk-label:hover label.sk-toggleable__label {background-color: #d4ebff;}#sk-container-id-5 div.sk-serial::before {content: \"\";position: absolute;border-left: 1px solid gray;box-sizing: border-box;top: 0;bottom: 0;left: 50%;z-index: 0;}#sk-container-id-5 div.sk-serial {display: flex;flex-direction: column;align-items: center;background-color: white;padding-right: 0.2em;padding-left: 0.2em;position: relative;}#sk-container-id-5 div.sk-item {position: relative;z-index: 1;}#sk-container-id-5 div.sk-parallel {display: flex;align-items: stretch;justify-content: center;background-color: white;position: relative;}#sk-container-id-5 div.sk-item::before, #sk-container-id-5 div.sk-parallel-item::before {content: \"\";position: absolute;border-left: 1px solid gray;box-sizing: border-box;top: 0;bottom: 0;left: 50%;z-index: -1;}#sk-container-id-5 div.sk-parallel-item {display: flex;flex-direction: column;z-index: 1;position: relative;background-color: white;}#sk-container-id-5 div.sk-parallel-item:first-child::after {align-self: flex-end;width: 50%;}#sk-container-id-5 div.sk-parallel-item:last-child::after {align-self: flex-start;width: 50%;}#sk-container-id-5 div.sk-parallel-item:only-child::after {width: 0;}#sk-container-id-5 div.sk-dashed-wrapped {border: 1px dashed gray;margin: 0 0.4em 0.5em 0.4em;box-sizing: border-box;padding-bottom: 0.4em;background-color: white;}#sk-container-id-5 div.sk-label label {font-family: monospace;font-weight: bold;display: inline-block;line-height: 1.2em;}#sk-container-id-5 div.sk-label-container {text-align: center;}#sk-container-id-5 div.sk-container {/* jupyter's `normalize.less` sets `[hidden] { display: none; }` but bootstrap.min.css set `[hidden] { display: none !important; }` so we also need the `!important` here to be able to override the default hidden behavior on the sphinx rendered scikit-learn.org. See: https://github.com/scikit-learn/scikit-learn/issues/21755 */display: inline-block !important;position: relative;}#sk-container-id-5 div.sk-text-repr-fallback {display: none;}</style><div id=\"sk-container-id-5\" class=\"sk-top-container\"><div class=\"sk-text-repr-fallback\"><pre>SVC()</pre><b>In a Jupyter environment, please rerun this cell to show the HTML representation or trust the notebook. <br />On GitHub, the HTML representation is unable to render, please try loading this page with nbviewer.org.</b></div><div class=\"sk-container\" hidden><div class=\"sk-item\"><div class=\"sk-estimator sk-toggleable\"><input class=\"sk-toggleable__control sk-hidden--visually\" id=\"sk-estimator-id-5\" type=\"checkbox\" checked><label for=\"sk-estimator-id-5\" class=\"sk-toggleable__label sk-toggleable__label-arrow\">SVC</label><div class=\"sk-toggleable__content\"><pre>SVC()</pre></div></div></div></div></div>"
      ],
      "text/plain": [
       "SVC()"
      ]
     },
     "execution_count": 48,
     "metadata": {},
     "output_type": "execute_result"
    }
   ],
   "source": [
    "%%time\n",
    "\n",
    "SVM_class = SVC()\n",
    "SVM_class.fit(X_train, y_train)\n",
    "#Here I am fitting an SVM with default parameters. It had a CPU time of 828 ms."
   ]
  },
  {
   "cell_type": "code",
   "execution_count": 49,
   "id": "158f5fd4",
   "metadata": {},
   "outputs": [
    {
     "name": "stdout",
     "output_type": "stream",
     "text": [
      "0.9672531769305963\n"
     ]
    }
   ],
   "source": [
    "preds_SVM = SVM_class.predict(X_test)\n",
    "\n",
    "accuracy_SVM = accuracy_score(y_test, preds_SVM)\n",
    "print(accuracy_SVM)"
   ]
  },
  {
   "cell_type": "code",
   "execution_count": 50,
   "id": "83e63d6a",
   "metadata": {},
   "outputs": [],
   "source": [
    "#We can see that it made a correct prediction 96.9% of the time as seen from its accuracy."
   ]
  },
  {
   "cell_type": "code",
   "execution_count": null,
   "id": "d47757db",
   "metadata": {},
   "outputs": [],
   "source": [
    "%%time\n",
    "\n",
    "SVM_class_kernel = SVC(kernel='linear')\n",
    "SVM_class_kernel.fit(X_train, y_train)\n",
    "#Fitting a SVM setting kernel to linear"
   ]
  },
  {
   "cell_type": "code",
   "execution_count": null,
   "id": "0cf4985b",
   "metadata": {},
   "outputs": [],
   "source": [
    "#The default model had a CPU time of 828 ms and an accuracy of 96.7%. The second model took too way too long to run and would not finish in time. I would prefer the first model as it had a very high accuracy and a fast fit time compared to the second one. "
   ]
  },
  {
   "cell_type": "code",
   "execution_count": null,
   "id": "49dff577",
   "metadata": {},
   "outputs": [],
   "source": [
    "#Part 2"
   ]
  },
  {
   "cell_type": "code",
   "execution_count": 52,
   "id": "8a454431",
   "metadata": {},
   "outputs": [],
   "source": [
    "#Here I am seperating the under sampled data into training and testing.\n",
    "\n",
    "y_under = undersampled_data[\"Bankrupt\"]\n",
    "x_under = undersampled_data.loc[:, undersampled_data.columns != \"Bankrupt\"]\n",
    "\n",
    "X_train_under, X_test_under, y_train_under, y_test_under = train_test_split(x_under, y_under, test_size=0.3)"
   ]
  },
  {
   "cell_type": "code",
   "execution_count": 53,
   "id": "3858bc12",
   "metadata": {},
   "outputs": [
    {
     "name": "stdout",
     "output_type": "stream",
     "text": [
      "CPU times: total: 234 ms\n",
      "Wall time: 280 ms\n"
     ]
    },
    {
     "data": {
      "text/html": [
       "<style>#sk-container-id-6 {color: black;background-color: white;}#sk-container-id-6 pre{padding: 0;}#sk-container-id-6 div.sk-toggleable {background-color: white;}#sk-container-id-6 label.sk-toggleable__label {cursor: pointer;display: block;width: 100%;margin-bottom: 0;padding: 0.3em;box-sizing: border-box;text-align: center;}#sk-container-id-6 label.sk-toggleable__label-arrow:before {content: \"▸\";float: left;margin-right: 0.25em;color: #696969;}#sk-container-id-6 label.sk-toggleable__label-arrow:hover:before {color: black;}#sk-container-id-6 div.sk-estimator:hover label.sk-toggleable__label-arrow:before {color: black;}#sk-container-id-6 div.sk-toggleable__content {max-height: 0;max-width: 0;overflow: hidden;text-align: left;background-color: #f0f8ff;}#sk-container-id-6 div.sk-toggleable__content pre {margin: 0.2em;color: black;border-radius: 0.25em;background-color: #f0f8ff;}#sk-container-id-6 input.sk-toggleable__control:checked~div.sk-toggleable__content {max-height: 200px;max-width: 100%;overflow: auto;}#sk-container-id-6 input.sk-toggleable__control:checked~label.sk-toggleable__label-arrow:before {content: \"▾\";}#sk-container-id-6 div.sk-estimator input.sk-toggleable__control:checked~label.sk-toggleable__label {background-color: #d4ebff;}#sk-container-id-6 div.sk-label input.sk-toggleable__control:checked~label.sk-toggleable__label {background-color: #d4ebff;}#sk-container-id-6 input.sk-hidden--visually {border: 0;clip: rect(1px 1px 1px 1px);clip: rect(1px, 1px, 1px, 1px);height: 1px;margin: -1px;overflow: hidden;padding: 0;position: absolute;width: 1px;}#sk-container-id-6 div.sk-estimator {font-family: monospace;background-color: #f0f8ff;border: 1px dotted black;border-radius: 0.25em;box-sizing: border-box;margin-bottom: 0.5em;}#sk-container-id-6 div.sk-estimator:hover {background-color: #d4ebff;}#sk-container-id-6 div.sk-parallel-item::after {content: \"\";width: 100%;border-bottom: 1px solid gray;flex-grow: 1;}#sk-container-id-6 div.sk-label:hover label.sk-toggleable__label {background-color: #d4ebff;}#sk-container-id-6 div.sk-serial::before {content: \"\";position: absolute;border-left: 1px solid gray;box-sizing: border-box;top: 0;bottom: 0;left: 50%;z-index: 0;}#sk-container-id-6 div.sk-serial {display: flex;flex-direction: column;align-items: center;background-color: white;padding-right: 0.2em;padding-left: 0.2em;position: relative;}#sk-container-id-6 div.sk-item {position: relative;z-index: 1;}#sk-container-id-6 div.sk-parallel {display: flex;align-items: stretch;justify-content: center;background-color: white;position: relative;}#sk-container-id-6 div.sk-item::before, #sk-container-id-6 div.sk-parallel-item::before {content: \"\";position: absolute;border-left: 1px solid gray;box-sizing: border-box;top: 0;bottom: 0;left: 50%;z-index: -1;}#sk-container-id-6 div.sk-parallel-item {display: flex;flex-direction: column;z-index: 1;position: relative;background-color: white;}#sk-container-id-6 div.sk-parallel-item:first-child::after {align-self: flex-end;width: 50%;}#sk-container-id-6 div.sk-parallel-item:last-child::after {align-self: flex-start;width: 50%;}#sk-container-id-6 div.sk-parallel-item:only-child::after {width: 0;}#sk-container-id-6 div.sk-dashed-wrapped {border: 1px dashed gray;margin: 0 0.4em 0.5em 0.4em;box-sizing: border-box;padding-bottom: 0.4em;background-color: white;}#sk-container-id-6 div.sk-label label {font-family: monospace;font-weight: bold;display: inline-block;line-height: 1.2em;}#sk-container-id-6 div.sk-label-container {text-align: center;}#sk-container-id-6 div.sk-container {/* jupyter's `normalize.less` sets `[hidden] { display: none; }` but bootstrap.min.css set `[hidden] { display: none !important; }` so we also need the `!important` here to be able to override the default hidden behavior on the sphinx rendered scikit-learn.org. See: https://github.com/scikit-learn/scikit-learn/issues/21755 */display: inline-block !important;position: relative;}#sk-container-id-6 div.sk-text-repr-fallback {display: none;}</style><div id=\"sk-container-id-6\" class=\"sk-top-container\"><div class=\"sk-text-repr-fallback\"><pre>RandomForestClassifier()</pre><b>In a Jupyter environment, please rerun this cell to show the HTML representation or trust the notebook. <br />On GitHub, the HTML representation is unable to render, please try loading this page with nbviewer.org.</b></div><div class=\"sk-container\" hidden><div class=\"sk-item\"><div class=\"sk-estimator sk-toggleable\"><input class=\"sk-toggleable__control sk-hidden--visually\" id=\"sk-estimator-id-6\" type=\"checkbox\" checked><label for=\"sk-estimator-id-6\" class=\"sk-toggleable__label sk-toggleable__label-arrow\">RandomForestClassifier</label><div class=\"sk-toggleable__content\"><pre>RandomForestClassifier()</pre></div></div></div></div></div>"
      ],
      "text/plain": [
       "RandomForestClassifier()"
      ]
     },
     "execution_count": 53,
     "metadata": {},
     "output_type": "execute_result"
    }
   ],
   "source": [
    "%%time\n",
    "\n",
    "RF_class_under = RandomForestClassifier()\n",
    "RF_class_under.fit(X_train_under, y_train_under)"
   ]
  },
  {
   "cell_type": "code",
   "execution_count": 54,
   "id": "ad80f810",
   "metadata": {},
   "outputs": [
    {
     "name": "stdout",
     "output_type": "stream",
     "text": [
      "CPU times: total: 0 ns\n",
      "Wall time: 14.1 ms\n"
     ]
    },
    {
     "data": {
      "text/html": [
       "<style>#sk-container-id-7 {color: black;background-color: white;}#sk-container-id-7 pre{padding: 0;}#sk-container-id-7 div.sk-toggleable {background-color: white;}#sk-container-id-7 label.sk-toggleable__label {cursor: pointer;display: block;width: 100%;margin-bottom: 0;padding: 0.3em;box-sizing: border-box;text-align: center;}#sk-container-id-7 label.sk-toggleable__label-arrow:before {content: \"▸\";float: left;margin-right: 0.25em;color: #696969;}#sk-container-id-7 label.sk-toggleable__label-arrow:hover:before {color: black;}#sk-container-id-7 div.sk-estimator:hover label.sk-toggleable__label-arrow:before {color: black;}#sk-container-id-7 div.sk-toggleable__content {max-height: 0;max-width: 0;overflow: hidden;text-align: left;background-color: #f0f8ff;}#sk-container-id-7 div.sk-toggleable__content pre {margin: 0.2em;color: black;border-radius: 0.25em;background-color: #f0f8ff;}#sk-container-id-7 input.sk-toggleable__control:checked~div.sk-toggleable__content {max-height: 200px;max-width: 100%;overflow: auto;}#sk-container-id-7 input.sk-toggleable__control:checked~label.sk-toggleable__label-arrow:before {content: \"▾\";}#sk-container-id-7 div.sk-estimator input.sk-toggleable__control:checked~label.sk-toggleable__label {background-color: #d4ebff;}#sk-container-id-7 div.sk-label input.sk-toggleable__control:checked~label.sk-toggleable__label {background-color: #d4ebff;}#sk-container-id-7 input.sk-hidden--visually {border: 0;clip: rect(1px 1px 1px 1px);clip: rect(1px, 1px, 1px, 1px);height: 1px;margin: -1px;overflow: hidden;padding: 0;position: absolute;width: 1px;}#sk-container-id-7 div.sk-estimator {font-family: monospace;background-color: #f0f8ff;border: 1px dotted black;border-radius: 0.25em;box-sizing: border-box;margin-bottom: 0.5em;}#sk-container-id-7 div.sk-estimator:hover {background-color: #d4ebff;}#sk-container-id-7 div.sk-parallel-item::after {content: \"\";width: 100%;border-bottom: 1px solid gray;flex-grow: 1;}#sk-container-id-7 div.sk-label:hover label.sk-toggleable__label {background-color: #d4ebff;}#sk-container-id-7 div.sk-serial::before {content: \"\";position: absolute;border-left: 1px solid gray;box-sizing: border-box;top: 0;bottom: 0;left: 50%;z-index: 0;}#sk-container-id-7 div.sk-serial {display: flex;flex-direction: column;align-items: center;background-color: white;padding-right: 0.2em;padding-left: 0.2em;position: relative;}#sk-container-id-7 div.sk-item {position: relative;z-index: 1;}#sk-container-id-7 div.sk-parallel {display: flex;align-items: stretch;justify-content: center;background-color: white;position: relative;}#sk-container-id-7 div.sk-item::before, #sk-container-id-7 div.sk-parallel-item::before {content: \"\";position: absolute;border-left: 1px solid gray;box-sizing: border-box;top: 0;bottom: 0;left: 50%;z-index: -1;}#sk-container-id-7 div.sk-parallel-item {display: flex;flex-direction: column;z-index: 1;position: relative;background-color: white;}#sk-container-id-7 div.sk-parallel-item:first-child::after {align-self: flex-end;width: 50%;}#sk-container-id-7 div.sk-parallel-item:last-child::after {align-self: flex-start;width: 50%;}#sk-container-id-7 div.sk-parallel-item:only-child::after {width: 0;}#sk-container-id-7 div.sk-dashed-wrapped {border: 1px dashed gray;margin: 0 0.4em 0.5em 0.4em;box-sizing: border-box;padding-bottom: 0.4em;background-color: white;}#sk-container-id-7 div.sk-label label {font-family: monospace;font-weight: bold;display: inline-block;line-height: 1.2em;}#sk-container-id-7 div.sk-label-container {text-align: center;}#sk-container-id-7 div.sk-container {/* jupyter's `normalize.less` sets `[hidden] { display: none; }` but bootstrap.min.css set `[hidden] { display: none !important; }` so we also need the `!important` here to be able to override the default hidden behavior on the sphinx rendered scikit-learn.org. See: https://github.com/scikit-learn/scikit-learn/issues/21755 */display: inline-block !important;position: relative;}#sk-container-id-7 div.sk-text-repr-fallback {display: none;}</style><div id=\"sk-container-id-7\" class=\"sk-top-container\"><div class=\"sk-text-repr-fallback\"><pre>SVC()</pre><b>In a Jupyter environment, please rerun this cell to show the HTML representation or trust the notebook. <br />On GitHub, the HTML representation is unable to render, please try loading this page with nbviewer.org.</b></div><div class=\"sk-container\" hidden><div class=\"sk-item\"><div class=\"sk-estimator sk-toggleable\"><input class=\"sk-toggleable__control sk-hidden--visually\" id=\"sk-estimator-id-7\" type=\"checkbox\" checked><label for=\"sk-estimator-id-7\" class=\"sk-toggleable__label sk-toggleable__label-arrow\">SVC</label><div class=\"sk-toggleable__content\"><pre>SVC()</pre></div></div></div></div></div>"
      ],
      "text/plain": [
       "SVC()"
      ]
     },
     "execution_count": 54,
     "metadata": {},
     "output_type": "execute_result"
    }
   ],
   "source": [
    "%%time\n",
    "\n",
    "SVM_class_under = SVC()\n",
    "SVM_class_under.fit(X_train_under, y_train_under)"
   ]
  },
  {
   "cell_type": "code",
   "execution_count": 55,
   "id": "da837a94",
   "metadata": {},
   "outputs": [],
   "source": [
    "#As we can see, the SVM was faster as it had a CPU time of 0 ns compared to the random forest of 234 ms."
   ]
  },
  {
   "cell_type": "code",
   "execution_count": 56,
   "id": "815add83",
   "metadata": {},
   "outputs": [
    {
     "name": "stdout",
     "output_type": "stream",
     "text": [
      "0.803030303030303\n"
     ]
    }
   ],
   "source": [
    "preds_RF = RF_class_under.predict(X_test_under)\n",
    "\n",
    "accuracy_RF = accuracy_score(y_test_under, preds_RF)\n",
    "print(accuracy_RF)"
   ]
  },
  {
   "cell_type": "code",
   "execution_count": 57,
   "id": "cca11d55",
   "metadata": {},
   "outputs": [
    {
     "name": "stdout",
     "output_type": "stream",
     "text": [
      "0.7971014492753623\n"
     ]
    }
   ],
   "source": [
    "precision_RF = precision_score(y_test_under, preds_RF)\n",
    "print(precision_RF)"
   ]
  },
  {
   "cell_type": "code",
   "execution_count": 58,
   "id": "dfb34020",
   "metadata": {},
   "outputs": [
    {
     "name": "stdout",
     "output_type": "stream",
     "text": [
      "0.6060606060606061\n"
     ]
    }
   ],
   "source": [
    "preds_SVM_under = SVM_class_under.predict(X_test_under)\n",
    "\n",
    "accuracy_SVM_under = accuracy_score(y_test_under, preds_SVM_under)\n",
    "print(accuracy_SVM_under)"
   ]
  },
  {
   "cell_type": "code",
   "execution_count": 59,
   "id": "76aa0873",
   "metadata": {},
   "outputs": [
    {
     "name": "stdout",
     "output_type": "stream",
     "text": [
      "0.6027397260273972\n"
     ]
    }
   ],
   "source": [
    "precision_SVM_under = precision_score(y_test_under, preds_SVM_under)\n",
    "print(precision_SVM_under)"
   ]
  },
  {
   "cell_type": "code",
   "execution_count": 60,
   "id": "f77f5733",
   "metadata": {},
   "outputs": [],
   "source": [
    "#However, when looking at the accuracy and precision scores, we see that the random forest had a higher accuarcy and precision. So while it took slightly longer to fit, it performed much better. So, I would prefer the random forest on the undersampled data. "
   ]
  },
  {
   "cell_type": "code",
   "execution_count": null,
   "id": "edba988a",
   "metadata": {},
   "outputs": [],
   "source": []
  },
  {
   "cell_type": "code",
   "execution_count": null,
   "id": "69112dfb",
   "metadata": {},
   "outputs": [],
   "source": []
  },
  {
   "cell_type": "code",
   "execution_count": null,
   "id": "e3012697",
   "metadata": {},
   "outputs": [],
   "source": []
  }
 ],
 "metadata": {
  "kernelspec": {
   "display_name": "Python 3 (ipykernel)",
   "language": "python",
   "name": "python3"
  },
  "language_info": {
   "codemirror_mode": {
    "name": "ipython",
    "version": 3
   },
   "file_extension": ".py",
   "mimetype": "text/x-python",
   "name": "python",
   "nbconvert_exporter": "python",
   "pygments_lexer": "ipython3",
   "version": "3.10.9"
  }
 },
 "nbformat": 4,
 "nbformat_minor": 5
}
